{
 "cells": [
  {
   "cell_type": "markdown",
   "metadata": {},
   "source": [
    "# core\n",
    "\n",
    "> Fill in a module description here"
   ]
  },
  {
   "cell_type": "code",
   "execution_count": null,
   "metadata": {},
   "outputs": [],
   "source": [
    "#| default_exp core"
   ]
  },
  {
   "cell_type": "code",
   "execution_count": null,
   "metadata": {},
   "outputs": [],
   "source": [
    "#| hide\n",
    "from nbdev.showdoc import *"
   ]
  },
  {
   "cell_type": "code",
   "execution_count": null,
   "metadata": {},
   "outputs": [],
   "source": [
    "#| export\n",
    "import datetime\n",
    "from dateutil import parser\n",
    "import logging\n",
    "\n",
    "import ee"
   ]
  },
  {
   "cell_type": "code",
   "execution_count": null,
   "metadata": {},
   "outputs": [],
   "source": [
    "#| export\n",
    "FORMAT_GEE_DATETIME_STRING = '%Y-%m-%dT%H:%M:%SZ'\n",
    "\n",
    "# Create a GEE image collection, if needed.\n",
    "def create_gee_image_collection(gee_gcp_project, gee_image_collection):\n",
    "    try:\n",
    "        ee.data.createAsset(\n",
    "            value={'type': 'ImageCollection'},\n",
    "            path=f'projects/{gee_gcp_project}/assets/{gee_image_collection}'\n",
    "        )\n",
    "        logging.debug('Succeeded in creating asset.')\n",
    "    except ee.EEException as e:\n",
    "        if str(e).startswith('Cannot overwrite asset'):\n",
    "            logging.info('Unable to create GEE asset. It may already exist.')\n",
    "        else:\n",
    "            raise(e)"
   ]
  },
  {
   "cell_type": "code",
   "execution_count": null,
   "metadata": {},
   "outputs": [],
   "source": [
    "#| export\n",
    "def filter_jobs(\n",
    "    # hyp3_batch,\n",
    "    jobs,\n",
    "    expired=None,\n",
    "    status_code=None,\n",
    "):\n",
    "    \"Filter ASF batch jobs by specified criteria.\"\n",
    "    # jobs = hyp3_batch.jobs\n",
    "    # Filter by expiration status.\n",
    "    if expired is False:\n",
    "        jobs = [\n",
    "            job for job in jobs\n",
    "            if parser.parse(job.to_dict()['expiration_time']) > datetime.datetime.now(datetime.timezone.utc)\n",
    "        ]\n",
    "    elif expired is True:\n",
    "        jobs = [\n",
    "            job for job in jobs\n",
    "            if parser.parse(job.to_dict()['expiration_time']) <= datetime.datetime.now(datetime.timezone.utc)\n",
    "        ]\n",
    "    # Filter by status code.\n",
    "    if isinstance(status_code, str):\n",
    "        print('Status code is a string')\n",
    "        status_code = [status_code]\n",
    "    if isinstance(status_code, list):\n",
    "        print('Status code is a list')\n",
    "        jobs = [\n",
    "            job for job in jobs\n",
    "            if job.to_dict()['status_code'] in status_code\n",
    "        ]\n",
    "    return jobs"
   ]
  },
  {
   "cell_type": "code",
   "execution_count": null,
   "metadata": {},
   "outputs": [],
   "source": [
    "#| hide\n",
    "import nbdev; nbdev.nbdev_export()"
   ]
  },
  {
   "cell_type": "code",
   "execution_count": null,
   "metadata": {},
   "outputs": [],
   "source": []
  }
 ],
 "metadata": {
  "kernelspec": {
   "display_name": "Python 3 (ipykernel)",
   "language": "python",
   "name": "python3"
  }
 },
 "nbformat": 4,
 "nbformat_minor": 4
}
