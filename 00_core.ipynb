{
 "cells": [
  {
   "cell_type": "markdown",
   "metadata": {},
   "source": [
    "# core\n",
    "\n",
    "> Fill in a module description here"
   ]
  },
  {
   "cell_type": "code",
   "execution_count": null,
   "metadata": {},
   "outputs": [],
   "source": [
    "#| default_exp core"
   ]
  },
  {
   "cell_type": "code",
   "execution_count": null,
   "metadata": {},
   "outputs": [],
   "source": [
    "#| hide\n",
    "from nbdev.showdoc import *"
   ]
  },
  {
   "cell_type": "code",
   "execution_count": null,
   "metadata": {},
   "outputs": [],
   "source": [
    "#| export\n",
    "import ee\n",
    "import logging"
   ]
  },
  {
   "cell_type": "code",
   "execution_count": null,
   "metadata": {},
   "outputs": [],
   "source": [
    "#| export\n",
    "FORMAT_GEE_DATETIME_STRING = '%Y-%m-%dT%H:%M:%SZ'\n",
    "\n",
    "# Create a GEE image collection, if needed.\n",
    "def create_gee_image_collection(gee_gcp_project, gee_image_collection):\n",
    "    try:\n",
    "        ee.data.createAsset(\n",
    "            value={'type': 'ImageCollection'},\n",
    "            path=f'projects/{gee_gcp_project}/assets/{gee_image_collection}'\n",
    "        )\n",
    "        logging.debug('Succeeded in creating asset.')\n",
    "    except ee.EEException as e:\n",
    "        if str(e).startswith('Cannot overwrite asset'):\n",
    "            logging.info('Unable to create GEE asset. It may already exist.')\n",
    "        else:\n",
    "            raise(e)"
   ]
  },
  {
   "cell_type": "code",
   "execution_count": null,
   "metadata": {},
   "outputs": [],
   "source": [
    "#| hide\n",
    "import nbdev; nbdev.nbdev_export()"
   ]
  }
 ],
 "metadata": {
  "kernelspec": {
   "display_name": "Python 3 (ipykernel)",
   "language": "python",
   "name": "python3"
  }
 },
 "nbformat": 4,
 "nbformat_minor": 4
}
