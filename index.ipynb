{
 "cells": [
  {
   "cell_type": "markdown",
   "metadata": {},
   "source": [
    "# sar-asf-to-gee\n",
    "\n",
    "> Facilitates transferring on-demand SAR products processed by ASF's HyP3 to Google Earth Engine."
   ]
  },
  {
   "cell_type": "markdown",
   "metadata": {},
   "source": [
    "# Overview\n",
    "\n",
    "This package facilitates the transfer of ASF HyP3 processed SAR datasets to Google Cloud Storage and the creation of Google Earth Engine assets."
   ]
  },
  {
   "cell_type": "markdown",
   "metadata": {},
   "source": [
    "# Install"
   ]
  },
  {
   "cell_type": "markdown",
   "metadata": {},
   "source": [
    "## Prerequisites\n",
    "\n",
    "1. A NASA Earthdata account\n",
    "    - You can register for an Earthdata Login here: https://www.earthdata.nasa.gov/eosdis/science-system-description/eosdis-components/earthdata-login\n",
    "    - Create a `.netfc` file that contains the Earthdata authentication credentials. See: https://nasa-openscapes.github.io/2021-Cloud-Hackathon/tutorials/04_NASA_Earthdata_Authentication.html\n",
    "\n",
    "2. A Google Cloud account\n",
    "    - Create Google Cloud authentication credentials using the [Google Cloud Command Line Interface](https://cloud.google.com/cli) with the command: `gcloud auth application-default login`\n",
    "    - See: https://cloud.google.com/sdk/gcloud/reference/auth/application-default/login\n",
    "\n",
    "3. A Google Earth Engine account\n",
    "    - Create Google Earth Engine authentication credentials using the [Google Earth Engine Command Lin Tool](https://developers.google.com/earth-engine/guides/command_line) with the command: `earthengine authenticate`\n",
    "    - See: https://developers.google.com/earth-engine/guides/auth"
   ]
  },
  {
   "cell_type": "markdown",
   "metadata": {},
   "source": [
    "## Package Installation\n",
    "\n",
    "Install directly from the GitHub repo."
   ]
  },
  {
   "cell_type": "markdown",
   "metadata": {},
   "source": [
    "```sh\n",
    "pip install git+https://github.com/gee-community/sar-asf-to-gee.git\n",
    "```"
   ]
  },
  {
   "cell_type": "markdown",
   "metadata": {},
   "source": [
    "## How to use"
   ]
  },
  {
   "cell_type": "markdown",
   "metadata": {},
   "source": [
    "This package assumes that you have already created datasets using the [ASF HyP3](https://hyp3-docs.asf.alaska.edu/) processing system using either the [ASF Data Search Vertex](https://hyp3-docs.asf.alaska.edu/using/vertex/) web interface or programmatically using the [HyP3 SDK for Python](https://hyp3-docs.asf.alaska.edu/using/sdk/) or [HyP3 REST API](https://hyp3-docs.asf.alaska.edu/using/api/).\n",
    "\n",
    "The [status of previously submitted jobs](https://search.asf.alaska.edu/#/?searchType=On%20Demand) can found within the Vertex application."
   ]
  },
  {
   "cell_type": "markdown",
   "metadata": {},
   "source": [
    "### Find HyP3 processed datasets"
   ]
  },
  {
   "cell_type": "markdown",
   "metadata": {},
   "source": [
    "Define a variable for the a job/project name of the HyP3 generated files that were previously submitted."
   ]
  },
  {
   "cell_type": "code",
   "execution_count": null,
   "metadata": {},
   "outputs": [],
   "source": [
    "job_name = 'test submit_insar_job'"
   ]
  },
  {
   "cell_type": "markdown",
   "metadata": {},
   "source": [
    "Find HyP3 jobs that are completed."
   ]
  },
  {
   "cell_type": "code",
   "execution_count": null,
   "metadata": {},
   "outputs": [],
   "source": [
    "from hyp3_sdk import HyP3\n",
    "\n",
    "hyp3 = HyP3()\n",
    "batch_completed = hyp3.find_jobs(\n",
    "    name=job_name,\n",
    "    status_code='SUCCEEDED',\n",
    ")"
   ]
  },
  {
   "cell_type": "markdown",
   "metadata": {},
   "source": [
    "### Transfer datasets\n",
    "\n",
    "Loop through the completed jobs, transferring the results locally, then to Google Cloud Storage, and then create an Earth Engine asset."
   ]
  },
  {
   "cell_type": "code",
   "execution_count": null,
   "metadata": {},
   "outputs": [
    {
     "name": "stderr",
     "output_type": "stream",
     "text": [
      "/Users/tylere/Documents/GitHub/gee-community/sar-asf-to-gee/.pixi/env/lib/python3.11/site-packages/asf_search/download/download.py:65: UserWarning: File already exists, skipping download: temp_downloads/S1AA_20230331T140803_20230412T140803_VVP012_INT80_G_ueF_3F75.zip\n",
      "  warnings.warn(f'File already exists, skipping download: {os.path.join(path, filename)}')\n",
      "Reading input: /Users/tylere/Documents/GitHub/gee-community/sar-asf-to-gee/temp_downloads/S1AA_20230331T140803_20230412T140803_VVP012_INT80_G_ueF_3F75/S1AA_20230331T140803_20230412T140803_VVP012_INT80_G_ueF_3F75_corr.tif\n",
      "\n",
      "Adding overviews...\n",
      "Updating dataset tags...\n",
      "Writing output to: /Users/tylere/Documents/GitHub/gee-community/sar-asf-to-gee/temp_downloads/S1AA_20230331T140803_20230412T140803_VVP012_INT80_G_ueF_3F75/S1AA_20230331T140803_20230412T140803_VVP012_INT80_G_ueF_3F75_corr.tif\n",
      "Reading input: /Users/tylere/Documents/GitHub/gee-community/sar-asf-to-gee/temp_downloads/S1AA_20230331T140803_20230412T140803_VVP012_INT80_G_ueF_3F75/S1AA_20230331T140803_20230412T140803_VVP012_INT80_G_ueF_3F75_los_disp.tif\n",
      "\n",
      "Adding overviews...\n",
      "Updating dataset tags...\n",
      "Writing output to: /Users/tylere/Documents/GitHub/gee-community/sar-asf-to-gee/temp_downloads/S1AA_20230331T140803_20230412T140803_VVP012_INT80_G_ueF_3F75/S1AA_20230331T140803_20230412T140803_VVP012_INT80_G_ueF_3F75_los_disp.tif\n",
      "Reading input: /Users/tylere/Documents/GitHub/gee-community/sar-asf-to-gee/temp_downloads/S1AA_20230331T140803_20230412T140803_VVP012_INT80_G_ueF_3F75/S1AA_20230331T140803_20230412T140803_VVP012_INT80_G_ueF_3F75_inc_map.tif\n",
      "\n",
      "Adding overviews...\n",
      "Updating dataset tags...\n",
      "Writing output to: /Users/tylere/Documents/GitHub/gee-community/sar-asf-to-gee/temp_downloads/S1AA_20230331T140803_20230412T140803_VVP012_INT80_G_ueF_3F75/S1AA_20230331T140803_20230412T140803_VVP012_INT80_G_ueF_3F75_inc_map.tif\n",
      "Reading input: /Users/tylere/Documents/GitHub/gee-community/sar-asf-to-gee/temp_downloads/S1AA_20230331T140803_20230412T140803_VVP012_INT80_G_ueF_3F75/S1AA_20230331T140803_20230412T140803_VVP012_INT80_G_ueF_3F75_vert_disp.tif\n",
      "\n",
      "Adding overviews...\n",
      "Updating dataset tags...\n",
      "Writing output to: /Users/tylere/Documents/GitHub/gee-community/sar-asf-to-gee/temp_downloads/S1AA_20230331T140803_20230412T140803_VVP012_INT80_G_ueF_3F75/S1AA_20230331T140803_20230412T140803_VVP012_INT80_G_ueF_3F75_vert_disp.tif\n",
      "Reading input: /Users/tylere/Documents/GitHub/gee-community/sar-asf-to-gee/temp_downloads/S1AA_20230331T140803_20230412T140803_VVP012_INT80_G_ueF_3F75/S1AA_20230331T140803_20230412T140803_VVP012_INT80_G_ueF_3F75_water_mask.tif\n",
      "\n",
      "Adding overviews...\n",
      "Updating dataset tags...\n",
      "Writing output to: /Users/tylere/Documents/GitHub/gee-community/sar-asf-to-gee/temp_downloads/S1AA_20230331T140803_20230412T140803_VVP012_INT80_G_ueF_3F75/S1AA_20230331T140803_20230412T140803_VVP012_INT80_G_ueF_3F75_water_mask.tif\n",
      "Reading input: /Users/tylere/Documents/GitHub/gee-community/sar-asf-to-gee/temp_downloads/S1AA_20230331T140803_20230412T140803_VVP012_INT80_G_ueF_3F75/S1AA_20230331T140803_20230412T140803_VVP012_INT80_G_ueF_3F75_lv_phi.tif\n",
      "\n",
      "Adding overviews...\n",
      "Updating dataset tags...\n",
      "Writing output to: /Users/tylere/Documents/GitHub/gee-community/sar-asf-to-gee/temp_downloads/S1AA_20230331T140803_20230412T140803_VVP012_INT80_G_ueF_3F75/S1AA_20230331T140803_20230412T140803_VVP012_INT80_G_ueF_3F75_lv_phi.tif\n",
      "Reading input: /Users/tylere/Documents/GitHub/gee-community/sar-asf-to-gee/temp_downloads/S1AA_20230331T140803_20230412T140803_VVP012_INT80_G_ueF_3F75/S1AA_20230331T140803_20230412T140803_VVP012_INT80_G_ueF_3F75_inc_map_ell.tif\n",
      "\n",
      "Adding overviews...\n",
      "Updating dataset tags...\n",
      "Writing output to: /Users/tylere/Documents/GitHub/gee-community/sar-asf-to-gee/temp_downloads/S1AA_20230331T140803_20230412T140803_VVP012_INT80_G_ueF_3F75/S1AA_20230331T140803_20230412T140803_VVP012_INT80_G_ueF_3F75_inc_map_ell.tif\n",
      "Reading input: /Users/tylere/Documents/GitHub/gee-community/sar-asf-to-gee/temp_downloads/S1AA_20230331T140803_20230412T140803_VVP012_INT80_G_ueF_3F75/S1AA_20230331T140803_20230412T140803_VVP012_INT80_G_ueF_3F75_lv_theta.tif\n",
      "\n",
      "Adding overviews...\n",
      "Updating dataset tags...\n",
      "Writing output to: /Users/tylere/Documents/GitHub/gee-community/sar-asf-to-gee/temp_downloads/S1AA_20230331T140803_20230412T140803_VVP012_INT80_G_ueF_3F75/S1AA_20230331T140803_20230412T140803_VVP012_INT80_G_ueF_3F75_lv_theta.tif\n",
      "Reading input: /Users/tylere/Documents/GitHub/gee-community/sar-asf-to-gee/temp_downloads/S1AA_20230331T140803_20230412T140803_VVP012_INT80_G_ueF_3F75/S1AA_20230331T140803_20230412T140803_VVP012_INT80_G_ueF_3F75_unw_phase.tif\n",
      "\n",
      "Adding overviews...\n",
      "Updating dataset tags...\n",
      "Writing output to: /Users/tylere/Documents/GitHub/gee-community/sar-asf-to-gee/temp_downloads/S1AA_20230331T140803_20230412T140803_VVP012_INT80_G_ueF_3F75/S1AA_20230331T140803_20230412T140803_VVP012_INT80_G_ueF_3F75_unw_phase.tif\n",
      "Reading input: /Users/tylere/Documents/GitHub/gee-community/sar-asf-to-gee/temp_downloads/S1AA_20230331T140803_20230412T140803_VVP012_INT80_G_ueF_3F75/S1AA_20230331T140803_20230412T140803_VVP012_INT80_G_ueF_3F75_amp.tif\n",
      "\n",
      "Adding overviews...\n",
      "Updating dataset tags...\n",
      "Writing output to: /Users/tylere/Documents/GitHub/gee-community/sar-asf-to-gee/temp_downloads/S1AA_20230331T140803_20230412T140803_VVP012_INT80_G_ueF_3F75/S1AA_20230331T140803_20230412T140803_VVP012_INT80_G_ueF_3F75_amp.tif\n",
      "Reading input: /Users/tylere/Documents/GitHub/gee-community/sar-asf-to-gee/temp_downloads/S1AA_20230331T140803_20230412T140803_VVP012_INT80_G_ueF_3F75/S1AA_20230331T140803_20230412T140803_VVP012_INT80_G_ueF_3F75_wrapped_phase.tif\n",
      "\n",
      "Adding overviews...\n",
      "Updating dataset tags...\n",
      "Writing output to: /Users/tylere/Documents/GitHub/gee-community/sar-asf-to-gee/temp_downloads/S1AA_20230331T140803_20230412T140803_VVP012_INT80_G_ueF_3F75/S1AA_20230331T140803_20230412T140803_VVP012_INT80_G_ueF_3F75_wrapped_phase.tif\n",
      "Reading input: /Users/tylere/Documents/GitHub/gee-community/sar-asf-to-gee/temp_downloads/S1AA_20230331T140803_20230412T140803_VVP012_INT80_G_ueF_3F75/S1AA_20230331T140803_20230412T140803_VVP012_INT80_G_ueF_3F75_dem.tif\n",
      "\n",
      "Adding overviews...\n",
      "Updating dataset tags...\n",
      "Writing output to: /Users/tylere/Documents/GitHub/gee-community/sar-asf-to-gee/temp_downloads/S1AA_20230331T140803_20230412T140803_VVP012_INT80_G_ueF_3F75/S1AA_20230331T140803_20230412T140803_VVP012_INT80_G_ueF_3F75_dem.tif\n"
     ]
    },
    {
     "name": "stdout",
     "output_type": "stream",
     "text": [
      "hyp3-data-staging/S1AA_20230331T140803_20230412T140803_VVP012_INT80_G_ueF_3F75/S1AA_20230331T140803_20230412T140803_VVP012_INT80_G_ueF_3F75_corr.tif\n",
      "hyp3-data-staging/S1AA_20230331T140803_20230412T140803_VVP012_INT80_G_ueF_3F75/S1AA_20230331T140803_20230412T140803_VVP012_INT80_G_ueF_3F75_los_disp.tif\n",
      "hyp3-data-staging/S1AA_20230331T140803_20230412T140803_VVP012_INT80_G_ueF_3F75/S1AA_20230331T140803_20230412T140803_VVP012_INT80_G_ueF_3F75_inc_map.tif\n",
      "hyp3-data-staging/S1AA_20230331T140803_20230412T140803_VVP012_INT80_G_ueF_3F75/S1AA_20230331T140803_20230412T140803_VVP012_INT80_G_ueF_3F75_vert_disp.tif\n",
      "hyp3-data-staging/S1AA_20230331T140803_20230412T140803_VVP012_INT80_G_ueF_3F75/S1AA_20230331T140803_20230412T140803_VVP012_INT80_G_ueF_3F75_water_mask.tif\n",
      "hyp3-data-staging/S1AA_20230331T140803_20230412T140803_VVP012_INT80_G_ueF_3F75/S1AA_20230331T140803_20230412T140803_VVP012_INT80_G_ueF_3F75_lv_phi.tif\n",
      "hyp3-data-staging/S1AA_20230331T140803_20230412T140803_VVP012_INT80_G_ueF_3F75/S1AA_20230331T140803_20230412T140803_VVP012_INT80_G_ueF_3F75_inc_map_ell.tif\n",
      "hyp3-data-staging/S1AA_20230331T140803_20230412T140803_VVP012_INT80_G_ueF_3F75/S1AA_20230331T140803_20230412T140803_VVP012_INT80_G_ueF_3F75_lv_theta.tif\n",
      "hyp3-data-staging/S1AA_20230331T140803_20230412T140803_VVP012_INT80_G_ueF_3F75/S1AA_20230331T140803_20230412T140803_VVP012_INT80_G_ueF_3F75_unw_phase.tif\n",
      "hyp3-data-staging/S1AA_20230331T140803_20230412T140803_VVP012_INT80_G_ueF_3F75/S1AA_20230331T140803_20230412T140803_VVP012_INT80_G_ueF_3F75_amp.tif\n",
      "hyp3-data-staging/S1AA_20230331T140803_20230412T140803_VVP012_INT80_G_ueF_3F75/S1AA_20230331T140803_20230412T140803_VVP012_INT80_G_ueF_3F75_wrapped_phase.tif\n",
      "hyp3-data-staging/S1AA_20230331T140803_20230412T140803_VVP012_INT80_G_ueF_3F75/S1AA_20230331T140803_20230412T140803_VVP012_INT80_G_ueF_3F75_dem.tif\n"
     ]
    },
    {
     "name": "stderr",
     "output_type": "stream",
     "text": [
      "Reading input: /Users/tylere/Documents/GitHub/gee-community/sar-asf-to-gee/temp_downloads/S1AA_20230327T130015_20230408T130016_VVP012_INT80_G_ueF_F264/S1AA_20230327T130015_20230408T130016_VVP012_INT80_G_ueF_F264_water_mask.tif\n",
      "\n",
      "Adding overviews...\n",
      "Updating dataset tags...\n",
      "Writing output to: /Users/tylere/Documents/GitHub/gee-community/sar-asf-to-gee/temp_downloads/S1AA_20230327T130015_20230408T130016_VVP012_INT80_G_ueF_F264/S1AA_20230327T130015_20230408T130016_VVP012_INT80_G_ueF_F264_water_mask.tif\n",
      "Reading input: /Users/tylere/Documents/GitHub/gee-community/sar-asf-to-gee/temp_downloads/S1AA_20230327T130015_20230408T130016_VVP012_INT80_G_ueF_F264/S1AA_20230327T130015_20230408T130016_VVP012_INT80_G_ueF_F264_lv_phi.tif\n",
      "\n",
      "Adding overviews...\n",
      "Updating dataset tags...\n",
      "Writing output to: /Users/tylere/Documents/GitHub/gee-community/sar-asf-to-gee/temp_downloads/S1AA_20230327T130015_20230408T130016_VVP012_INT80_G_ueF_F264/S1AA_20230327T130015_20230408T130016_VVP012_INT80_G_ueF_F264_lv_phi.tif\n",
      "Reading input: /Users/tylere/Documents/GitHub/gee-community/sar-asf-to-gee/temp_downloads/S1AA_20230327T130015_20230408T130016_VVP012_INT80_G_ueF_F264/S1AA_20230327T130015_20230408T130016_VVP012_INT80_G_ueF_F264_vert_disp.tif\n",
      "\n",
      "Adding overviews...\n",
      "Updating dataset tags...\n",
      "Writing output to: /Users/tylere/Documents/GitHub/gee-community/sar-asf-to-gee/temp_downloads/S1AA_20230327T130015_20230408T130016_VVP012_INT80_G_ueF_F264/S1AA_20230327T130015_20230408T130016_VVP012_INT80_G_ueF_F264_vert_disp.tif\n",
      "Reading input: /Users/tylere/Documents/GitHub/gee-community/sar-asf-to-gee/temp_downloads/S1AA_20230327T130015_20230408T130016_VVP012_INT80_G_ueF_F264/S1AA_20230327T130015_20230408T130016_VVP012_INT80_G_ueF_F264_inc_map_ell.tif\n",
      "\n",
      "Adding overviews...\n",
      "Updating dataset tags...\n",
      "Writing output to: /Users/tylere/Documents/GitHub/gee-community/sar-asf-to-gee/temp_downloads/S1AA_20230327T130015_20230408T130016_VVP012_INT80_G_ueF_F264/S1AA_20230327T130015_20230408T130016_VVP012_INT80_G_ueF_F264_inc_map_ell.tif\n",
      "Reading input: /Users/tylere/Documents/GitHub/gee-community/sar-asf-to-gee/temp_downloads/S1AA_20230327T130015_20230408T130016_VVP012_INT80_G_ueF_F264/S1AA_20230327T130015_20230408T130016_VVP012_INT80_G_ueF_F264_corr.tif\n",
      "\n",
      "Adding overviews...\n",
      "Updating dataset tags...\n",
      "Writing output to: /Users/tylere/Documents/GitHub/gee-community/sar-asf-to-gee/temp_downloads/S1AA_20230327T130015_20230408T130016_VVP012_INT80_G_ueF_F264/S1AA_20230327T130015_20230408T130016_VVP012_INT80_G_ueF_F264_corr.tif\n",
      "Reading input: /Users/tylere/Documents/GitHub/gee-community/sar-asf-to-gee/temp_downloads/S1AA_20230327T130015_20230408T130016_VVP012_INT80_G_ueF_F264/S1AA_20230327T130015_20230408T130016_VVP012_INT80_G_ueF_F264_dem.tif\n",
      "\n",
      "Adding overviews...\n",
      "Updating dataset tags...\n",
      "Writing output to: /Users/tylere/Documents/GitHub/gee-community/sar-asf-to-gee/temp_downloads/S1AA_20230327T130015_20230408T130016_VVP012_INT80_G_ueF_F264/S1AA_20230327T130015_20230408T130016_VVP012_INT80_G_ueF_F264_dem.tif\n",
      "Reading input: /Users/tylere/Documents/GitHub/gee-community/sar-asf-to-gee/temp_downloads/S1AA_20230327T130015_20230408T130016_VVP012_INT80_G_ueF_F264/S1AA_20230327T130015_20230408T130016_VVP012_INT80_G_ueF_F264_unw_phase.tif\n",
      "\n",
      "Adding overviews...\n",
      "Updating dataset tags...\n",
      "Writing output to: /Users/tylere/Documents/GitHub/gee-community/sar-asf-to-gee/temp_downloads/S1AA_20230327T130015_20230408T130016_VVP012_INT80_G_ueF_F264/S1AA_20230327T130015_20230408T130016_VVP012_INT80_G_ueF_F264_unw_phase.tif\n",
      "Reading input: /Users/tylere/Documents/GitHub/gee-community/sar-asf-to-gee/temp_downloads/S1AA_20230327T130015_20230408T130016_VVP012_INT80_G_ueF_F264/S1AA_20230327T130015_20230408T130016_VVP012_INT80_G_ueF_F264_amp.tif\n",
      "\n",
      "Adding overviews...\n",
      "Updating dataset tags...\n",
      "Writing output to: /Users/tylere/Documents/GitHub/gee-community/sar-asf-to-gee/temp_downloads/S1AA_20230327T130015_20230408T130016_VVP012_INT80_G_ueF_F264/S1AA_20230327T130015_20230408T130016_VVP012_INT80_G_ueF_F264_amp.tif\n",
      "Reading input: /Users/tylere/Documents/GitHub/gee-community/sar-asf-to-gee/temp_downloads/S1AA_20230327T130015_20230408T130016_VVP012_INT80_G_ueF_F264/S1AA_20230327T130015_20230408T130016_VVP012_INT80_G_ueF_F264_los_disp.tif\n",
      "\n",
      "Adding overviews...\n",
      "Updating dataset tags...\n",
      "Writing output to: /Users/tylere/Documents/GitHub/gee-community/sar-asf-to-gee/temp_downloads/S1AA_20230327T130015_20230408T130016_VVP012_INT80_G_ueF_F264/S1AA_20230327T130015_20230408T130016_VVP012_INT80_G_ueF_F264_los_disp.tif\n",
      "Reading input: /Users/tylere/Documents/GitHub/gee-community/sar-asf-to-gee/temp_downloads/S1AA_20230327T130015_20230408T130016_VVP012_INT80_G_ueF_F264/S1AA_20230327T130015_20230408T130016_VVP012_INT80_G_ueF_F264_wrapped_phase.tif\n",
      "\n",
      "Adding overviews...\n",
      "Updating dataset tags...\n",
      "Writing output to: /Users/tylere/Documents/GitHub/gee-community/sar-asf-to-gee/temp_downloads/S1AA_20230327T130015_20230408T130016_VVP012_INT80_G_ueF_F264/S1AA_20230327T130015_20230408T130016_VVP012_INT80_G_ueF_F264_wrapped_phase.tif\n",
      "Reading input: /Users/tylere/Documents/GitHub/gee-community/sar-asf-to-gee/temp_downloads/S1AA_20230327T130015_20230408T130016_VVP012_INT80_G_ueF_F264/S1AA_20230327T130015_20230408T130016_VVP012_INT80_G_ueF_F264_lv_theta.tif\n",
      "\n",
      "Adding overviews...\n",
      "Updating dataset tags...\n",
      "Writing output to: /Users/tylere/Documents/GitHub/gee-community/sar-asf-to-gee/temp_downloads/S1AA_20230327T130015_20230408T130016_VVP012_INT80_G_ueF_F264/S1AA_20230327T130015_20230408T130016_VVP012_INT80_G_ueF_F264_lv_theta.tif\n",
      "Reading input: /Users/tylere/Documents/GitHub/gee-community/sar-asf-to-gee/temp_downloads/S1AA_20230327T130015_20230408T130016_VVP012_INT80_G_ueF_F264/S1AA_20230327T130015_20230408T130016_VVP012_INT80_G_ueF_F264_inc_map.tif\n",
      "\n",
      "Adding overviews...\n",
      "Updating dataset tags...\n",
      "Writing output to: /Users/tylere/Documents/GitHub/gee-community/sar-asf-to-gee/temp_downloads/S1AA_20230327T130015_20230408T130016_VVP012_INT80_G_ueF_F264/S1AA_20230327T130015_20230408T130016_VVP012_INT80_G_ueF_F264_inc_map.tif\n"
     ]
    },
    {
     "name": "stdout",
     "output_type": "stream",
     "text": [
      "hyp3-data-staging/S1AA_20230327T130015_20230408T130016_VVP012_INT80_G_ueF_F264/S1AA_20230327T130015_20230408T130016_VVP012_INT80_G_ueF_F264_water_mask.tif\n",
      "hyp3-data-staging/S1AA_20230327T130015_20230408T130016_VVP012_INT80_G_ueF_F264/S1AA_20230327T130015_20230408T130016_VVP012_INT80_G_ueF_F264_lv_phi.tif\n",
      "hyp3-data-staging/S1AA_20230327T130015_20230408T130016_VVP012_INT80_G_ueF_F264/S1AA_20230327T130015_20230408T130016_VVP012_INT80_G_ueF_F264_vert_disp.tif\n",
      "hyp3-data-staging/S1AA_20230327T130015_20230408T130016_VVP012_INT80_G_ueF_F264/S1AA_20230327T130015_20230408T130016_VVP012_INT80_G_ueF_F264_inc_map_ell.tif\n",
      "hyp3-data-staging/S1AA_20230327T130015_20230408T130016_VVP012_INT80_G_ueF_F264/S1AA_20230327T130015_20230408T130016_VVP012_INT80_G_ueF_F264_corr.tif\n",
      "hyp3-data-staging/S1AA_20230327T130015_20230408T130016_VVP012_INT80_G_ueF_F264/S1AA_20230327T130015_20230408T130016_VVP012_INT80_G_ueF_F264_dem.tif\n",
      "hyp3-data-staging/S1AA_20230327T130015_20230408T130016_VVP012_INT80_G_ueF_F264/S1AA_20230327T130015_20230408T130016_VVP012_INT80_G_ueF_F264_unw_phase.tif\n",
      "hyp3-data-staging/S1AA_20230327T130015_20230408T130016_VVP012_INT80_G_ueF_F264/S1AA_20230327T130015_20230408T130016_VVP012_INT80_G_ueF_F264_amp.tif\n",
      "hyp3-data-staging/S1AA_20230327T130015_20230408T130016_VVP012_INT80_G_ueF_F264/S1AA_20230327T130015_20230408T130016_VVP012_INT80_G_ueF_F264_los_disp.tif\n",
      "hyp3-data-staging/S1AA_20230327T130015_20230408T130016_VVP012_INT80_G_ueF_F264/S1AA_20230327T130015_20230408T130016_VVP012_INT80_G_ueF_F264_wrapped_phase.tif\n",
      "hyp3-data-staging/S1AA_20230327T130015_20230408T130016_VVP012_INT80_G_ueF_F264/S1AA_20230327T130015_20230408T130016_VVP012_INT80_G_ueF_F264_lv_theta.tif\n",
      "hyp3-data-staging/S1AA_20230327T130015_20230408T130016_VVP012_INT80_G_ueF_F264/S1AA_20230327T130015_20230408T130016_VVP012_INT80_G_ueF_F264_inc_map.tif\n"
     ]
    }
   ],
   "source": [
    "from sar_asf_to_gee.hyp3 import Transfer\n",
    "\n",
    "for job in batch_completed:\n",
    "    t = Transfer(\n",
    "        job_dict=job.to_dict(),\n",
    "        gcs_bucket='hyp3-data-staging',\n",
    "        gee_gcp_project='sar-asf-to-gee',\n",
    "        gee_image_collection='test_image_collection',\n",
    "        local_storage='temp_downloads',\n",
    "    )\n",
    "    t.hpy3_results_to_local()\n",
    "    t.to_gcs()\n",
    "    t.create_gee_asset()"
   ]
  },
  {
   "cell_type": "code",
   "execution_count": null,
   "metadata": {},
   "outputs": [],
   "source": []
  }
 ],
 "metadata": {
  "kernelspec": {
   "display_name": "Python 3 (ipykernel)",
   "language": "python",
   "name": "python3"
  }
 },
 "nbformat": 4,
 "nbformat_minor": 4
}
