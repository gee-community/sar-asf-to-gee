{
 "cells": [
  {
   "cell_type": "markdown",
   "metadata": {},
   "source": [
    "# sar-asf-to-gee\n",
    "\n",
    "> Facilitates transferring on-demand SAR products processed by ASF's HyP3 to Google Earth Engine."
   ]
  },
  {
   "cell_type": "markdown",
   "metadata": {},
   "source": [
    "# Overview\n",
    "\n",
    "This package facilitates the transfer of ASF HyP3 processed SAR datasets to Google Cloud Storage and the creation of Google Earth Engine assets."
   ]
  },
  {
   "cell_type": "markdown",
   "metadata": {},
   "source": [
    "# Install"
   ]
  },
  {
   "cell_type": "markdown",
   "metadata": {},
   "source": [
    "## Prerequisites\n",
    "\n",
    "Authenticate to NASA Earthdata\n",
    "- See: https://nasa-openscapes.github.io/2021-Cloud-Hackathon/tutorials/04_NASA_Earthdata_Authentication.html\n",
    "- See: https://urs.earthdata.nasa.gov/documentation/for_users/data_access/create_net_rc_file\n",
    "\n",
    "Authenticate to Google Cloud\n",
    "- See: https://cloud.google.com/sdk/gcloud/reference/auth/application-default/loginca\n",
    "- `gcloud auth application-default login`\n",
    "\n",
    "Authenticate to Google Earth Engine\n",
    "- See: https://developers.google.com/earth-engine/guides/auth\n",
    "- `earthengine authenticate`"
   ]
  },
  {
   "cell_type": "markdown",
   "metadata": {},
   "source": [
    "## Package Installation\n",
    "\n",
    "Install directly from the GitHub repo."
   ]
  },
  {
   "cell_type": "markdown",
   "metadata": {},
   "source": [
    "```sh\n",
    "pip install git+https://github.com/gee-community/sar-asf-to-gee.git\n",
    "```"
   ]
  },
  {
   "cell_type": "markdown",
   "metadata": {},
   "source": [
    "## How to use"
   ]
  },
  {
   "cell_type": "code",
   "execution_count": null,
   "metadata": {},
   "outputs": [],
   "source": [
    "from hyp3_sdk import HyP3\n",
    "from sar_asf_to_gee.hyp3 import Transfer"
   ]
  },
  {
   "cell_type": "markdown",
   "metadata": {},
   "source": [
    "Define a job name for HyP3 generated files that previously submitted via the [ASF Data Search Vertex](https://hyp3-docs.asf.alaska.edu/using/vertex/) web application or the [HyP3 Python SDK](https://hyp3-docs.asf.alaska.edu/using/sdk/). "
   ]
  },
  {
   "cell_type": "code",
   "execution_count": null,
   "metadata": {},
   "outputs": [],
   "source": [
    "job_name = 'test submit_insar_job'"
   ]
  },
  {
   "cell_type": "markdown",
   "metadata": {},
   "source": [
    "Find HyP3 jobs that are completed."
   ]
  },
  {
   "cell_type": "code",
   "execution_count": null,
   "metadata": {},
   "outputs": [],
   "source": [
    "hyp3 = HyP3()\n",
    "batch_completed = hyp3.find_jobs(\n",
    "    name=job_name,\n",
    "    status_code='SUCCEEDED',\n",
    ")"
   ]
  },
  {
   "cell_type": "markdown",
   "metadata": {},
   "source": [
    "Loop through the jobs, transferring the results locally, then to Google Cloud Storage, then create an Earth Engine asset."
   ]
  },
  {
   "cell_type": "code",
   "execution_count": null,
   "metadata": {},
   "outputs": [
    {
     "name": "stderr",
     "output_type": "stream",
     "text": [
      "/Users/tylere/Documents/GitHub/gee-community/sar-asf-to-gee/.pixi/env/lib/python3.11/site-packages/asf_search/download/download.py:65: UserWarning: File already exists, skipping download: temp_downloads/S1AA_20230331T140803_20230412T140803_VVP012_INT80_G_ueF_3F75.zip\n",
      "  warnings.warn(f'File already exists, skipping download: {os.path.join(path, filename)}')\n",
      "Reading input: /Users/tylere/Documents/GitHub/gee-community/sar-asf-to-gee/temp_downloads/S1AA_20230331T140803_20230412T140803_VVP012_INT80_G_ueF_3F75/S1AA_20230331T140803_20230412T140803_VVP012_INT80_G_ueF_3F75_corr.tif\n",
      "\n",
      "Adding overviews...\n",
      "Updating dataset tags...\n",
      "Writing output to: /Users/tylere/Documents/GitHub/gee-community/sar-asf-to-gee/temp_downloads/S1AA_20230331T140803_20230412T140803_VVP012_INT80_G_ueF_3F75/S1AA_20230331T140803_20230412T140803_VVP012_INT80_G_ueF_3F75_corr.tif\n",
      "Reading input: /Users/tylere/Documents/GitHub/gee-community/sar-asf-to-gee/temp_downloads/S1AA_20230331T140803_20230412T140803_VVP012_INT80_G_ueF_3F75/S1AA_20230331T140803_20230412T140803_VVP012_INT80_G_ueF_3F75_los_disp.tif\n",
      "\n",
      "Adding overviews...\n",
      "Updating dataset tags...\n",
      "Writing output to: /Users/tylere/Documents/GitHub/gee-community/sar-asf-to-gee/temp_downloads/S1AA_20230331T140803_20230412T140803_VVP012_INT80_G_ueF_3F75/S1AA_20230331T140803_20230412T140803_VVP012_INT80_G_ueF_3F75_los_disp.tif\n",
      "Reading input: /Users/tylere/Documents/GitHub/gee-community/sar-asf-to-gee/temp_downloads/S1AA_20230331T140803_20230412T140803_VVP012_INT80_G_ueF_3F75/S1AA_20230331T140803_20230412T140803_VVP012_INT80_G_ueF_3F75_inc_map.tif\n",
      "\n",
      "Adding overviews...\n",
      "Updating dataset tags...\n",
      "Writing output to: /Users/tylere/Documents/GitHub/gee-community/sar-asf-to-gee/temp_downloads/S1AA_20230331T140803_20230412T140803_VVP012_INT80_G_ueF_3F75/S1AA_20230331T140803_20230412T140803_VVP012_INT80_G_ueF_3F75_inc_map.tif\n",
      "Reading input: /Users/tylere/Documents/GitHub/gee-community/sar-asf-to-gee/temp_downloads/S1AA_20230331T140803_20230412T140803_VVP012_INT80_G_ueF_3F75/S1AA_20230331T140803_20230412T140803_VVP012_INT80_G_ueF_3F75_vert_disp.tif\n",
      "\n",
      "Adding overviews...\n",
      "Updating dataset tags...\n",
      "Writing output to: /Users/tylere/Documents/GitHub/gee-community/sar-asf-to-gee/temp_downloads/S1AA_20230331T140803_20230412T140803_VVP012_INT80_G_ueF_3F75/S1AA_20230331T140803_20230412T140803_VVP012_INT80_G_ueF_3F75_vert_disp.tif\n",
      "Reading input: /Users/tylere/Documents/GitHub/gee-community/sar-asf-to-gee/temp_downloads/S1AA_20230331T140803_20230412T140803_VVP012_INT80_G_ueF_3F75/S1AA_20230331T140803_20230412T140803_VVP012_INT80_G_ueF_3F75_water_mask.tif\n",
      "\n",
      "Adding overviews...\n",
      "Updating dataset tags...\n",
      "Writing output to: /Users/tylere/Documents/GitHub/gee-community/sar-asf-to-gee/temp_downloads/S1AA_20230331T140803_20230412T140803_VVP012_INT80_G_ueF_3F75/S1AA_20230331T140803_20230412T140803_VVP012_INT80_G_ueF_3F75_water_mask.tif\n",
      "Reading input: /Users/tylere/Documents/GitHub/gee-community/sar-asf-to-gee/temp_downloads/S1AA_20230331T140803_20230412T140803_VVP012_INT80_G_ueF_3F75/S1AA_20230331T140803_20230412T140803_VVP012_INT80_G_ueF_3F75_lv_phi.tif\n",
      "\n",
      "Adding overviews...\n",
      "Updating dataset tags...\n",
      "Writing output to: /Users/tylere/Documents/GitHub/gee-community/sar-asf-to-gee/temp_downloads/S1AA_20230331T140803_20230412T140803_VVP012_INT80_G_ueF_3F75/S1AA_20230331T140803_20230412T140803_VVP012_INT80_G_ueF_3F75_lv_phi.tif\n",
      "Reading input: /Users/tylere/Documents/GitHub/gee-community/sar-asf-to-gee/temp_downloads/S1AA_20230331T140803_20230412T140803_VVP012_INT80_G_ueF_3F75/S1AA_20230331T140803_20230412T140803_VVP012_INT80_G_ueF_3F75_inc_map_ell.tif\n",
      "\n",
      "Adding overviews...\n",
      "Updating dataset tags...\n",
      "Writing output to: /Users/tylere/Documents/GitHub/gee-community/sar-asf-to-gee/temp_downloads/S1AA_20230331T140803_20230412T140803_VVP012_INT80_G_ueF_3F75/S1AA_20230331T140803_20230412T140803_VVP012_INT80_G_ueF_3F75_inc_map_ell.tif\n",
      "Reading input: /Users/tylere/Documents/GitHub/gee-community/sar-asf-to-gee/temp_downloads/S1AA_20230331T140803_20230412T140803_VVP012_INT80_G_ueF_3F75/S1AA_20230331T140803_20230412T140803_VVP012_INT80_G_ueF_3F75_lv_theta.tif\n",
      "\n",
      "Adding overviews...\n",
      "Updating dataset tags...\n",
      "Writing output to: /Users/tylere/Documents/GitHub/gee-community/sar-asf-to-gee/temp_downloads/S1AA_20230331T140803_20230412T140803_VVP012_INT80_G_ueF_3F75/S1AA_20230331T140803_20230412T140803_VVP012_INT80_G_ueF_3F75_lv_theta.tif\n",
      "Reading input: /Users/tylere/Documents/GitHub/gee-community/sar-asf-to-gee/temp_downloads/S1AA_20230331T140803_20230412T140803_VVP012_INT80_G_ueF_3F75/S1AA_20230331T140803_20230412T140803_VVP012_INT80_G_ueF_3F75_unw_phase.tif\n",
      "\n",
      "Adding overviews...\n",
      "Updating dataset tags...\n",
      "Writing output to: /Users/tylere/Documents/GitHub/gee-community/sar-asf-to-gee/temp_downloads/S1AA_20230331T140803_20230412T140803_VVP012_INT80_G_ueF_3F75/S1AA_20230331T140803_20230412T140803_VVP012_INT80_G_ueF_3F75_unw_phase.tif\n",
      "Reading input: /Users/tylere/Documents/GitHub/gee-community/sar-asf-to-gee/temp_downloads/S1AA_20230331T140803_20230412T140803_VVP012_INT80_G_ueF_3F75/S1AA_20230331T140803_20230412T140803_VVP012_INT80_G_ueF_3F75_amp.tif\n",
      "\n",
      "Adding overviews...\n",
      "Updating dataset tags...\n",
      "Writing output to: /Users/tylere/Documents/GitHub/gee-community/sar-asf-to-gee/temp_downloads/S1AA_20230331T140803_20230412T140803_VVP012_INT80_G_ueF_3F75/S1AA_20230331T140803_20230412T140803_VVP012_INT80_G_ueF_3F75_amp.tif\n",
      "Reading input: /Users/tylere/Documents/GitHub/gee-community/sar-asf-to-gee/temp_downloads/S1AA_20230331T140803_20230412T140803_VVP012_INT80_G_ueF_3F75/S1AA_20230331T140803_20230412T140803_VVP012_INT80_G_ueF_3F75_wrapped_phase.tif\n",
      "\n",
      "Adding overviews...\n",
      "Updating dataset tags...\n",
      "Writing output to: /Users/tylere/Documents/GitHub/gee-community/sar-asf-to-gee/temp_downloads/S1AA_20230331T140803_20230412T140803_VVP012_INT80_G_ueF_3F75/S1AA_20230331T140803_20230412T140803_VVP012_INT80_G_ueF_3F75_wrapped_phase.tif\n",
      "Reading input: /Users/tylere/Documents/GitHub/gee-community/sar-asf-to-gee/temp_downloads/S1AA_20230331T140803_20230412T140803_VVP012_INT80_G_ueF_3F75/S1AA_20230331T140803_20230412T140803_VVP012_INT80_G_ueF_3F75_dem.tif\n",
      "\n",
      "Adding overviews...\n",
      "Updating dataset tags...\n",
      "Writing output to: /Users/tylere/Documents/GitHub/gee-community/sar-asf-to-gee/temp_downloads/S1AA_20230331T140803_20230412T140803_VVP012_INT80_G_ueF_3F75/S1AA_20230331T140803_20230412T140803_VVP012_INT80_G_ueF_3F75_dem.tif\n"
     ]
    },
    {
     "name": "stdout",
     "output_type": "stream",
     "text": [
      "hyp3-data-staging/S1AA_20230331T140803_20230412T140803_VVP012_INT80_G_ueF_3F75/S1AA_20230331T140803_20230412T140803_VVP012_INT80_G_ueF_3F75_corr.tif\n",
      "hyp3-data-staging/S1AA_20230331T140803_20230412T140803_VVP012_INT80_G_ueF_3F75/S1AA_20230331T140803_20230412T140803_VVP012_INT80_G_ueF_3F75_los_disp.tif\n",
      "hyp3-data-staging/S1AA_20230331T140803_20230412T140803_VVP012_INT80_G_ueF_3F75/S1AA_20230331T140803_20230412T140803_VVP012_INT80_G_ueF_3F75_inc_map.tif\n",
      "hyp3-data-staging/S1AA_20230331T140803_20230412T140803_VVP012_INT80_G_ueF_3F75/S1AA_20230331T140803_20230412T140803_VVP012_INT80_G_ueF_3F75_vert_disp.tif\n",
      "hyp3-data-staging/S1AA_20230331T140803_20230412T140803_VVP012_INT80_G_ueF_3F75/S1AA_20230331T140803_20230412T140803_VVP012_INT80_G_ueF_3F75_water_mask.tif\n",
      "hyp3-data-staging/S1AA_20230331T140803_20230412T140803_VVP012_INT80_G_ueF_3F75/S1AA_20230331T140803_20230412T140803_VVP012_INT80_G_ueF_3F75_lv_phi.tif\n",
      "hyp3-data-staging/S1AA_20230331T140803_20230412T140803_VVP012_INT80_G_ueF_3F75/S1AA_20230331T140803_20230412T140803_VVP012_INT80_G_ueF_3F75_inc_map_ell.tif\n",
      "hyp3-data-staging/S1AA_20230331T140803_20230412T140803_VVP012_INT80_G_ueF_3F75/S1AA_20230331T140803_20230412T140803_VVP012_INT80_G_ueF_3F75_lv_theta.tif\n",
      "hyp3-data-staging/S1AA_20230331T140803_20230412T140803_VVP012_INT80_G_ueF_3F75/S1AA_20230331T140803_20230412T140803_VVP012_INT80_G_ueF_3F75_unw_phase.tif\n",
      "hyp3-data-staging/S1AA_20230331T140803_20230412T140803_VVP012_INT80_G_ueF_3F75/S1AA_20230331T140803_20230412T140803_VVP012_INT80_G_ueF_3F75_amp.tif\n",
      "hyp3-data-staging/S1AA_20230331T140803_20230412T140803_VVP012_INT80_G_ueF_3F75/S1AA_20230331T140803_20230412T140803_VVP012_INT80_G_ueF_3F75_wrapped_phase.tif\n",
      "hyp3-data-staging/S1AA_20230331T140803_20230412T140803_VVP012_INT80_G_ueF_3F75/S1AA_20230331T140803_20230412T140803_VVP012_INT80_G_ueF_3F75_dem.tif\n"
     ]
    },
    {
     "name": "stderr",
     "output_type": "stream",
     "text": [
      "Reading input: /Users/tylere/Documents/GitHub/gee-community/sar-asf-to-gee/temp_downloads/S1AA_20230327T130015_20230408T130016_VVP012_INT80_G_ueF_F264/S1AA_20230327T130015_20230408T130016_VVP012_INT80_G_ueF_F264_water_mask.tif\n",
      "\n",
      "Adding overviews...\n",
      "Updating dataset tags...\n",
      "Writing output to: /Users/tylere/Documents/GitHub/gee-community/sar-asf-to-gee/temp_downloads/S1AA_20230327T130015_20230408T130016_VVP012_INT80_G_ueF_F264/S1AA_20230327T130015_20230408T130016_VVP012_INT80_G_ueF_F264_water_mask.tif\n",
      "Reading input: /Users/tylere/Documents/GitHub/gee-community/sar-asf-to-gee/temp_downloads/S1AA_20230327T130015_20230408T130016_VVP012_INT80_G_ueF_F264/S1AA_20230327T130015_20230408T130016_VVP012_INT80_G_ueF_F264_lv_phi.tif\n",
      "\n",
      "Adding overviews...\n",
      "Updating dataset tags...\n",
      "Writing output to: /Users/tylere/Documents/GitHub/gee-community/sar-asf-to-gee/temp_downloads/S1AA_20230327T130015_20230408T130016_VVP012_INT80_G_ueF_F264/S1AA_20230327T130015_20230408T130016_VVP012_INT80_G_ueF_F264_lv_phi.tif\n",
      "Reading input: /Users/tylere/Documents/GitHub/gee-community/sar-asf-to-gee/temp_downloads/S1AA_20230327T130015_20230408T130016_VVP012_INT80_G_ueF_F264/S1AA_20230327T130015_20230408T130016_VVP012_INT80_G_ueF_F264_vert_disp.tif\n",
      "\n",
      "Adding overviews...\n",
      "Updating dataset tags...\n",
      "Writing output to: /Users/tylere/Documents/GitHub/gee-community/sar-asf-to-gee/temp_downloads/S1AA_20230327T130015_20230408T130016_VVP012_INT80_G_ueF_F264/S1AA_20230327T130015_20230408T130016_VVP012_INT80_G_ueF_F264_vert_disp.tif\n",
      "Reading input: /Users/tylere/Documents/GitHub/gee-community/sar-asf-to-gee/temp_downloads/S1AA_20230327T130015_20230408T130016_VVP012_INT80_G_ueF_F264/S1AA_20230327T130015_20230408T130016_VVP012_INT80_G_ueF_F264_inc_map_ell.tif\n",
      "\n",
      "Adding overviews...\n",
      "Updating dataset tags...\n",
      "Writing output to: /Users/tylere/Documents/GitHub/gee-community/sar-asf-to-gee/temp_downloads/S1AA_20230327T130015_20230408T130016_VVP012_INT80_G_ueF_F264/S1AA_20230327T130015_20230408T130016_VVP012_INT80_G_ueF_F264_inc_map_ell.tif\n",
      "Reading input: /Users/tylere/Documents/GitHub/gee-community/sar-asf-to-gee/temp_downloads/S1AA_20230327T130015_20230408T130016_VVP012_INT80_G_ueF_F264/S1AA_20230327T130015_20230408T130016_VVP012_INT80_G_ueF_F264_corr.tif\n",
      "\n",
      "Adding overviews...\n",
      "Updating dataset tags...\n",
      "Writing output to: /Users/tylere/Documents/GitHub/gee-community/sar-asf-to-gee/temp_downloads/S1AA_20230327T130015_20230408T130016_VVP012_INT80_G_ueF_F264/S1AA_20230327T130015_20230408T130016_VVP012_INT80_G_ueF_F264_corr.tif\n",
      "Reading input: /Users/tylere/Documents/GitHub/gee-community/sar-asf-to-gee/temp_downloads/S1AA_20230327T130015_20230408T130016_VVP012_INT80_G_ueF_F264/S1AA_20230327T130015_20230408T130016_VVP012_INT80_G_ueF_F264_dem.tif\n",
      "\n",
      "Adding overviews...\n",
      "Updating dataset tags...\n",
      "Writing output to: /Users/tylere/Documents/GitHub/gee-community/sar-asf-to-gee/temp_downloads/S1AA_20230327T130015_20230408T130016_VVP012_INT80_G_ueF_F264/S1AA_20230327T130015_20230408T130016_VVP012_INT80_G_ueF_F264_dem.tif\n",
      "Reading input: /Users/tylere/Documents/GitHub/gee-community/sar-asf-to-gee/temp_downloads/S1AA_20230327T130015_20230408T130016_VVP012_INT80_G_ueF_F264/S1AA_20230327T130015_20230408T130016_VVP012_INT80_G_ueF_F264_unw_phase.tif\n",
      "\n",
      "Adding overviews...\n",
      "Updating dataset tags...\n",
      "Writing output to: /Users/tylere/Documents/GitHub/gee-community/sar-asf-to-gee/temp_downloads/S1AA_20230327T130015_20230408T130016_VVP012_INT80_G_ueF_F264/S1AA_20230327T130015_20230408T130016_VVP012_INT80_G_ueF_F264_unw_phase.tif\n",
      "Reading input: /Users/tylere/Documents/GitHub/gee-community/sar-asf-to-gee/temp_downloads/S1AA_20230327T130015_20230408T130016_VVP012_INT80_G_ueF_F264/S1AA_20230327T130015_20230408T130016_VVP012_INT80_G_ueF_F264_amp.tif\n",
      "\n",
      "Adding overviews...\n",
      "Updating dataset tags...\n",
      "Writing output to: /Users/tylere/Documents/GitHub/gee-community/sar-asf-to-gee/temp_downloads/S1AA_20230327T130015_20230408T130016_VVP012_INT80_G_ueF_F264/S1AA_20230327T130015_20230408T130016_VVP012_INT80_G_ueF_F264_amp.tif\n",
      "Reading input: /Users/tylere/Documents/GitHub/gee-community/sar-asf-to-gee/temp_downloads/S1AA_20230327T130015_20230408T130016_VVP012_INT80_G_ueF_F264/S1AA_20230327T130015_20230408T130016_VVP012_INT80_G_ueF_F264_los_disp.tif\n",
      "\n",
      "Adding overviews...\n",
      "Updating dataset tags...\n",
      "Writing output to: /Users/tylere/Documents/GitHub/gee-community/sar-asf-to-gee/temp_downloads/S1AA_20230327T130015_20230408T130016_VVP012_INT80_G_ueF_F264/S1AA_20230327T130015_20230408T130016_VVP012_INT80_G_ueF_F264_los_disp.tif\n",
      "Reading input: /Users/tylere/Documents/GitHub/gee-community/sar-asf-to-gee/temp_downloads/S1AA_20230327T130015_20230408T130016_VVP012_INT80_G_ueF_F264/S1AA_20230327T130015_20230408T130016_VVP012_INT80_G_ueF_F264_wrapped_phase.tif\n",
      "\n",
      "Adding overviews...\n",
      "Updating dataset tags...\n",
      "Writing output to: /Users/tylere/Documents/GitHub/gee-community/sar-asf-to-gee/temp_downloads/S1AA_20230327T130015_20230408T130016_VVP012_INT80_G_ueF_F264/S1AA_20230327T130015_20230408T130016_VVP012_INT80_G_ueF_F264_wrapped_phase.tif\n",
      "Reading input: /Users/tylere/Documents/GitHub/gee-community/sar-asf-to-gee/temp_downloads/S1AA_20230327T130015_20230408T130016_VVP012_INT80_G_ueF_F264/S1AA_20230327T130015_20230408T130016_VVP012_INT80_G_ueF_F264_lv_theta.tif\n",
      "\n",
      "Adding overviews...\n",
      "Updating dataset tags...\n",
      "Writing output to: /Users/tylere/Documents/GitHub/gee-community/sar-asf-to-gee/temp_downloads/S1AA_20230327T130015_20230408T130016_VVP012_INT80_G_ueF_F264/S1AA_20230327T130015_20230408T130016_VVP012_INT80_G_ueF_F264_lv_theta.tif\n",
      "Reading input: /Users/tylere/Documents/GitHub/gee-community/sar-asf-to-gee/temp_downloads/S1AA_20230327T130015_20230408T130016_VVP012_INT80_G_ueF_F264/S1AA_20230327T130015_20230408T130016_VVP012_INT80_G_ueF_F264_inc_map.tif\n",
      "\n",
      "Adding overviews...\n",
      "Updating dataset tags...\n",
      "Writing output to: /Users/tylere/Documents/GitHub/gee-community/sar-asf-to-gee/temp_downloads/S1AA_20230327T130015_20230408T130016_VVP012_INT80_G_ueF_F264/S1AA_20230327T130015_20230408T130016_VVP012_INT80_G_ueF_F264_inc_map.tif\n"
     ]
    },
    {
     "name": "stdout",
     "output_type": "stream",
     "text": [
      "hyp3-data-staging/S1AA_20230327T130015_20230408T130016_VVP012_INT80_G_ueF_F264/S1AA_20230327T130015_20230408T130016_VVP012_INT80_G_ueF_F264_water_mask.tif\n",
      "hyp3-data-staging/S1AA_20230327T130015_20230408T130016_VVP012_INT80_G_ueF_F264/S1AA_20230327T130015_20230408T130016_VVP012_INT80_G_ueF_F264_lv_phi.tif\n",
      "hyp3-data-staging/S1AA_20230327T130015_20230408T130016_VVP012_INT80_G_ueF_F264/S1AA_20230327T130015_20230408T130016_VVP012_INT80_G_ueF_F264_vert_disp.tif\n",
      "hyp3-data-staging/S1AA_20230327T130015_20230408T130016_VVP012_INT80_G_ueF_F264/S1AA_20230327T130015_20230408T130016_VVP012_INT80_G_ueF_F264_inc_map_ell.tif\n",
      "hyp3-data-staging/S1AA_20230327T130015_20230408T130016_VVP012_INT80_G_ueF_F264/S1AA_20230327T130015_20230408T130016_VVP012_INT80_G_ueF_F264_corr.tif\n",
      "hyp3-data-staging/S1AA_20230327T130015_20230408T130016_VVP012_INT80_G_ueF_F264/S1AA_20230327T130015_20230408T130016_VVP012_INT80_G_ueF_F264_dem.tif\n",
      "hyp3-data-staging/S1AA_20230327T130015_20230408T130016_VVP012_INT80_G_ueF_F264/S1AA_20230327T130015_20230408T130016_VVP012_INT80_G_ueF_F264_unw_phase.tif\n",
      "hyp3-data-staging/S1AA_20230327T130015_20230408T130016_VVP012_INT80_G_ueF_F264/S1AA_20230327T130015_20230408T130016_VVP012_INT80_G_ueF_F264_amp.tif\n",
      "hyp3-data-staging/S1AA_20230327T130015_20230408T130016_VVP012_INT80_G_ueF_F264/S1AA_20230327T130015_20230408T130016_VVP012_INT80_G_ueF_F264_los_disp.tif\n",
      "hyp3-data-staging/S1AA_20230327T130015_20230408T130016_VVP012_INT80_G_ueF_F264/S1AA_20230327T130015_20230408T130016_VVP012_INT80_G_ueF_F264_wrapped_phase.tif\n",
      "hyp3-data-staging/S1AA_20230327T130015_20230408T130016_VVP012_INT80_G_ueF_F264/S1AA_20230327T130015_20230408T130016_VVP012_INT80_G_ueF_F264_lv_theta.tif\n",
      "hyp3-data-staging/S1AA_20230327T130015_20230408T130016_VVP012_INT80_G_ueF_F264/S1AA_20230327T130015_20230408T130016_VVP012_INT80_G_ueF_F264_inc_map.tif\n"
     ]
    }
   ],
   "source": [
    "for job in batch_completed:\n",
    "    t = Transfer(\n",
    "        job_dict=job.to_dict(),\n",
    "        gcs_bucket='hyp3-data-staging',\n",
    "        gee_gcp_project='sar-asf-to-gee',\n",
    "        gee_image_collection='test_image_collection',\n",
    "        local_storage='temp_downloads',\n",
    "    )\n",
    "    t.hpy3_results_to_local()\n",
    "    t.to_gcs()\n",
    "    t.create_gee_asset()"
   ]
  },
  {
   "cell_type": "code",
   "execution_count": null,
   "metadata": {},
   "outputs": [],
   "source": []
  }
 ],
 "metadata": {
  "kernelspec": {
   "display_name": "Python 3 (ipykernel)",
   "language": "python",
   "name": "python3"
  }
 },
 "nbformat": 4,
 "nbformat_minor": 4
}
