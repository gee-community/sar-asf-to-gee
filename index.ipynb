{
 "cells": [
  {
   "cell_type": "markdown",
   "metadata": {},
   "source": [
    "# sar-asf-to-gee\n",
    "\n",
    "> Facilitates transferring on-demand SAR products processed by ASF's HyP3 to Google Earth Engine."
   ]
  },
  {
   "cell_type": "markdown",
   "metadata": {},
   "source": [
    "# Overview\n",
    "\n",
    "This package facilitates the transfer of ASF HyP3 processed SAR datasets to Google Cloud Storage and the creation of Google Earth Engine assets."
   ]
  },
  {
   "cell_type": "markdown",
   "metadata": {},
   "source": [
    "# Install"
   ]
  },
  {
   "cell_type": "markdown",
   "metadata": {},
   "source": [
    "## Prerequisites\n",
    "\n",
    "1. A NASA Earthdata account\n",
    "    - You can register for an Earthdata Login here: https://www.earthdata.nasa.gov/eosdis/science-system-description/eosdis-components/earthdata-login\n",
    "    - Create a `.netfc` file that contains the Earthdata authentication credentials. See: https://nasa-openscapes.github.io/2021-Cloud-Hackathon/tutorials/04_NASA_Earthdata_Authentication.html\n",
    "\n",
    "2. A Google Cloud account\n",
    "    - Create Google Cloud authentication credentials using the [Google Cloud Command Line Interface](https://cloud.google.com/cli) with the command: `gcloud auth application-default login`\n",
    "    - See: https://cloud.google.com/sdk/gcloud/reference/auth/application-default/login\n",
    "\n",
    "3. A Google Earth Engine account\n",
    "    - Create Google Earth Engine authentication credentials using the [Google Earth Engine Command Lin Tool](https://developers.google.com/earth-engine/guides/command_line) with the command: `earthengine authenticate`\n",
    "    - See: https://developers.google.com/earth-engine/guides/auth"
   ]
  },
  {
   "cell_type": "markdown",
   "metadata": {},
   "source": [
    "## Package Installation\n",
    "\n",
    "Install directly from the GitHub repo."
   ]
  },
  {
   "cell_type": "markdown",
   "metadata": {},
   "source": [
    "```sh\n",
    "pip install git+https://github.com/gee-community/sar-asf-to-gee.git\n",
    "```"
   ]
  },
  {
   "cell_type": "markdown",
   "metadata": {},
   "source": [
    "# How to use"
   ]
  },
  {
   "cell_type": "markdown",
   "metadata": {},
   "source": [
    "This package assumes that you have already created datasets using the [ASF HyP3](https://hyp3-docs.asf.alaska.edu/) processing system using either the [ASF Data Search Vertex](https://hyp3-docs.asf.alaska.edu/using/vertex/) web interface or programmatically using the [HyP3 SDK for Python](https://hyp3-docs.asf.alaska.edu/using/sdk/) or [HyP3 REST API](https://hyp3-docs.asf.alaska.edu/using/api/).\n",
    "\n",
    "The [status of previously submitted jobs](https://search.asf.alaska.edu/#/?searchType=On%20Demand) can found within the Vertex application."
   ]
  },
  {
   "cell_type": "markdown",
   "metadata": {},
   "source": [
    "## Imports"
   ]
  },
  {
   "cell_type": "code",
   "execution_count": null,
   "metadata": {},
   "outputs": [],
   "source": [
    "from hyp3_sdk import HyP3\n",
    "\n",
    "from sar_asf_to_gee import core\n",
    "from sar_asf_to_gee import asf_hyp3"
   ]
  },
  {
   "cell_type": "markdown",
   "metadata": {},
   "source": [
    "Create an instance of the HyP3 class, which is used to query for jobs."
   ]
  },
  {
   "cell_type": "code",
   "execution_count": null,
   "metadata": {},
   "outputs": [],
   "source": [
    "hyp3 = HyP3()"
   ]
  },
  {
   "cell_type": "markdown",
   "metadata": {},
   "source": [
    "## InSAR GAMMA Example"
   ]
  },
  {
   "cell_type": "markdown",
   "metadata": {},
   "source": [
    "Find HyP3 InSAR GAMMA jobs that are completed but not expired."
   ]
  },
  {
   "cell_type": "code",
   "execution_count": null,
   "metadata": {},
   "outputs": [
    {
     "name": "stdout",
     "output_type": "stream",
     "text": [
      "Found 1 unexpired jobs.\n"
     ]
    }
   ],
   "source": [
    "job_name = 'INSAR_GAMMA_processing_example'\n",
    "batch_completed = hyp3.find_jobs(\n",
    "    name=job_name,\n",
    "    status_code='SUCCEEDED',\n",
    ")\n",
    "jobs = core.filter_jobs(batch_completed.jobs, expired=False)\n",
    "print(f'Found {len(jobs)} unexpired jobs.')"
   ]
  },
  {
   "cell_type": "markdown",
   "metadata": {},
   "source": [
    "Loop through the completed jobs, transferring the results locally, then to Google Cloud Storage, and then create an Earth Engine asset."
   ]
  },
  {
   "cell_type": "code",
   "execution_count": null,
   "metadata": {},
   "outputs": [
    {
     "name": "stdout",
     "output_type": "stream",
     "text": [
      "Processing INSAR_GAMMA_processing_example\n",
      "  Transferring files from ASF to local computer...\n"
     ]
    },
    {
     "name": "stderr",
     "output_type": "stream",
     "text": [
      "/Users/tylere/Documents/GitHub/gee-community/sar-asf-to-gee/.pixi/envs/default/lib/python3.11/site-packages/asf_search/download/download.py:65: UserWarning: File already exists, skipping download: temp_downloads/S1AA_20231206T185929_20240311T185926_VVR096_INT80_G_ueF_39A2.zip\n",
      "  warnings.warn(f'File already exists, skipping download: {os.path.join(path, filename)}')\n",
      "Reading input: /Users/tylere/Documents/GitHub/gee-community/sar-asf-to-gee/temp_downloads/S1AA_20231206T185929_20240311T185926_VVR096_INT80_G_ueF_39A2/S1AA_20231206T185929_20240311T185926_VVR096_INT80_G_ueF_39A2_corr.tif\n",
      "\n",
      "Adding overviews...\n",
      "Updating dataset tags...\n",
      "Writing output to: /Users/tylere/Documents/GitHub/gee-community/sar-asf-to-gee/temp_downloads/S1AA_20231206T185929_20240311T185926_VVR096_INT80_G_ueF_39A2/S1AA_20231206T185929_20240311T185926_VVR096_INT80_G_ueF_39A2_corr.tif\n",
      "Reading input: /Users/tylere/Documents/GitHub/gee-community/sar-asf-to-gee/temp_downloads/S1AA_20231206T185929_20240311T185926_VVR096_INT80_G_ueF_39A2/S1AA_20231206T185929_20240311T185926_VVR096_INT80_G_ueF_39A2_unw_phase.tif\n",
      "\n",
      "Adding overviews...\n",
      "Updating dataset tags...\n",
      "Writing output to: /Users/tylere/Documents/GitHub/gee-community/sar-asf-to-gee/temp_downloads/S1AA_20231206T185929_20240311T185926_VVR096_INT80_G_ueF_39A2/S1AA_20231206T185929_20240311T185926_VVR096_INT80_G_ueF_39A2_unw_phase.tif\n",
      "Reading input: /Users/tylere/Documents/GitHub/gee-community/sar-asf-to-gee/temp_downloads/S1AA_20231206T185929_20240311T185926_VVR096_INT80_G_ueF_39A2/S1AA_20231206T185929_20240311T185926_VVR096_INT80_G_ueF_39A2_amp.tif\n",
      "\n",
      "Adding overviews...\n",
      "Updating dataset tags...\n",
      "Writing output to: /Users/tylere/Documents/GitHub/gee-community/sar-asf-to-gee/temp_downloads/S1AA_20231206T185929_20240311T185926_VVR096_INT80_G_ueF_39A2/S1AA_20231206T185929_20240311T185926_VVR096_INT80_G_ueF_39A2_amp.tif\n",
      "Reading input: /Users/tylere/Documents/GitHub/gee-community/sar-asf-to-gee/temp_downloads/S1AA_20231206T185929_20240311T185926_VVR096_INT80_G_ueF_39A2/S1AA_20231206T185929_20240311T185926_VVR096_INT80_G_ueF_39A2_water_mask.tif\n",
      "\n",
      "Adding overviews...\n",
      "Updating dataset tags...\n",
      "Writing output to: /Users/tylere/Documents/GitHub/gee-community/sar-asf-to-gee/temp_downloads/S1AA_20231206T185929_20240311T185926_VVR096_INT80_G_ueF_39A2/S1AA_20231206T185929_20240311T185926_VVR096_INT80_G_ueF_39A2_water_mask.tif\n"
     ]
    },
    {
     "name": "stdout",
     "output_type": "stream",
     "text": [
      "  Transferring files from local computer to Google Cloud Storage...\n",
      "  Creating Google Earth Engine assets...\n",
      "  Done.\n"
     ]
    }
   ],
   "source": [
    "for job in jobs:\n",
    "    print(f'Processing {job.name}')\n",
    "    t = asf_hyp3.Transfer(\n",
    "        job_dict=job.to_dict(),\n",
    "        gcs_bucket='hyp3-data-staging',\n",
    "        gee_gcp_project='sar-asf-to-gee',\n",
    "        gee_image_collection='test_image_collection_INSAR_GAMMA',\n",
    "        local_storage='temp_downloads',\n",
    "    )\n",
    "    print(f'  Transferring files from ASF to local computer...')\n",
    "    t.to_local()\n",
    "    print(f'  Transferring files from local computer to Google Cloud Storage...')\n",
    "    t.to_gcs()\n",
    "    print(f'  Creating Google Earth Engine assets...')\n",
    "    t.create_gee_asset()\n",
    "    print(f'  Done.')"
   ]
  },
  {
   "cell_type": "markdown",
   "metadata": {},
   "source": [
    "## InSAR Burst example"
   ]
  },
  {
   "cell_type": "markdown",
   "metadata": {},
   "source": [
    "Find HyP3 InSAR Burst jobs that are completed but not expired."
   ]
  },
  {
   "cell_type": "code",
   "execution_count": null,
   "metadata": {},
   "outputs": [
    {
     "name": "stdout",
     "output_type": "stream",
     "text": [
      "Found 1 unexpired jobs.\n"
     ]
    }
   ],
   "source": [
    "job_name = 'INSAR_ISCE_BURST_processing_example'\n",
    "batch_completed = hyp3.find_jobs(\n",
    "    name=job_name,\n",
    "    status_code='SUCCEEDED',\n",
    ")\n",
    "jobs = core.filter_jobs(batch_completed.jobs, expired=False)\n",
    "print(f'Found {len(jobs)} unexpired jobs.')"
   ]
  },
  {
   "cell_type": "code",
   "execution_count": null,
   "metadata": {},
   "outputs": [
    {
     "name": "stdout",
     "output_type": "stream",
     "text": [
      "Processing INSAR_ISCE_BURST_processing_example\n",
      "  Transferring files from ASF to local computer...\n"
     ]
    },
    {
     "name": "stderr",
     "output_type": "stream",
     "text": [
      "/Users/tylere/Documents/GitHub/gee-community/sar-asf-to-gee/.pixi/envs/default/lib/python3.11/site-packages/asf_search/download/download.py:65: UserWarning: File already exists, skipping download: temp_downloads/S1_184906_IW1_20240104_20240116_VV_INT80_E33E.zip\n",
      "  warnings.warn(f'File already exists, skipping download: {os.path.join(path, filename)}')\n",
      "Reading input: /Users/tylere/Documents/GitHub/gee-community/sar-asf-to-gee/temp_downloads/S1_184906_IW1_20240104_20240116_VV_INT80_E33E/S1_184906_IW1_20240104_20240116_VV_INT80_E33E_unw_phase.tif\n",
      "\n",
      "Adding overviews...\n",
      "Updating dataset tags...\n",
      "Writing output to: /Users/tylere/Documents/GitHub/gee-community/sar-asf-to-gee/temp_downloads/S1_184906_IW1_20240104_20240116_VV_INT80_E33E/S1_184906_IW1_20240104_20240116_VV_INT80_E33E_unw_phase.tif\n",
      "Reading input: /Users/tylere/Documents/GitHub/gee-community/sar-asf-to-gee/temp_downloads/S1_184906_IW1_20240104_20240116_VV_INT80_E33E/S1_184906_IW1_20240104_20240116_VV_INT80_E33E_wrapped_phase_rdr.tif\n",
      "\n",
      "Updating dataset tags...\n",
      "Writing output to: /Users/tylere/Documents/GitHub/gee-community/sar-asf-to-gee/temp_downloads/S1_184906_IW1_20240104_20240116_VV_INT80_E33E/S1_184906_IW1_20240104_20240116_VV_INT80_E33E_wrapped_phase_rdr.tif\n",
      "Reading input: /Users/tylere/Documents/GitHub/gee-community/sar-asf-to-gee/temp_downloads/S1_184906_IW1_20240104_20240116_VV_INT80_E33E/S1_184906_IW1_20240104_20240116_VV_INT80_E33E_corr.tif\n",
      "\n",
      "Adding overviews...\n",
      "Updating dataset tags...\n",
      "Writing output to: /Users/tylere/Documents/GitHub/gee-community/sar-asf-to-gee/temp_downloads/S1_184906_IW1_20240104_20240116_VV_INT80_E33E/S1_184906_IW1_20240104_20240116_VV_INT80_E33E_corr.tif\n",
      "Reading input: /Users/tylere/Documents/GitHub/gee-community/sar-asf-to-gee/temp_downloads/S1_184906_IW1_20240104_20240116_VV_INT80_E33E/S1_184906_IW1_20240104_20240116_VV_INT80_E33E_lv_theta.tif\n",
      "\n",
      "Adding overviews...\n",
      "Updating dataset tags...\n",
      "Writing output to: /Users/tylere/Documents/GitHub/gee-community/sar-asf-to-gee/temp_downloads/S1_184906_IW1_20240104_20240116_VV_INT80_E33E/S1_184906_IW1_20240104_20240116_VV_INT80_E33E_lv_theta.tif\n",
      "Reading input: /Users/tylere/Documents/GitHub/gee-community/sar-asf-to-gee/temp_downloads/S1_184906_IW1_20240104_20240116_VV_INT80_E33E/S1_184906_IW1_20240104_20240116_VV_INT80_E33E_lat_rdr.tif\n",
      "\n",
      "Updating dataset tags...\n",
      "Writing output to: /Users/tylere/Documents/GitHub/gee-community/sar-asf-to-gee/temp_downloads/S1_184906_IW1_20240104_20240116_VV_INT80_E33E/S1_184906_IW1_20240104_20240116_VV_INT80_E33E_lat_rdr.tif\n",
      "Reading input: /Users/tylere/Documents/GitHub/gee-community/sar-asf-to-gee/temp_downloads/S1_184906_IW1_20240104_20240116_VV_INT80_E33E/S1_184906_IW1_20240104_20240116_VV_INT80_E33E_conncomp.tif\n",
      "\n",
      "Adding overviews...\n",
      "Updating dataset tags...\n",
      "Writing output to: /Users/tylere/Documents/GitHub/gee-community/sar-asf-to-gee/temp_downloads/S1_184906_IW1_20240104_20240116_VV_INT80_E33E/S1_184906_IW1_20240104_20240116_VV_INT80_E33E_conncomp.tif\n",
      "Reading input: /Users/tylere/Documents/GitHub/gee-community/sar-asf-to-gee/temp_downloads/S1_184906_IW1_20240104_20240116_VV_INT80_E33E/S1_184906_IW1_20240104_20240116_VV_INT80_E33E_dem.tif\n",
      "\n",
      "Adding overviews...\n",
      "Updating dataset tags...\n",
      "Writing output to: /Users/tylere/Documents/GitHub/gee-community/sar-asf-to-gee/temp_downloads/S1_184906_IW1_20240104_20240116_VV_INT80_E33E/S1_184906_IW1_20240104_20240116_VV_INT80_E33E_dem.tif\n",
      "Reading input: /Users/tylere/Documents/GitHub/gee-community/sar-asf-to-gee/temp_downloads/S1_184906_IW1_20240104_20240116_VV_INT80_E33E/S1_184906_IW1_20240104_20240116_VV_INT80_E33E_lv_phi.tif\n",
      "\n",
      "Adding overviews...\n",
      "Updating dataset tags...\n",
      "Writing output to: /Users/tylere/Documents/GitHub/gee-community/sar-asf-to-gee/temp_downloads/S1_184906_IW1_20240104_20240116_VV_INT80_E33E/S1_184906_IW1_20240104_20240116_VV_INT80_E33E_lv_phi.tif\n",
      "Reading input: /Users/tylere/Documents/GitHub/gee-community/sar-asf-to-gee/temp_downloads/S1_184906_IW1_20240104_20240116_VV_INT80_E33E/S1_184906_IW1_20240104_20240116_VV_INT80_E33E_los_rdr.tif\n",
      "\n",
      "Updating dataset tags...\n",
      "Writing output to: /Users/tylere/Documents/GitHub/gee-community/sar-asf-to-gee/temp_downloads/S1_184906_IW1_20240104_20240116_VV_INT80_E33E/S1_184906_IW1_20240104_20240116_VV_INT80_E33E_los_rdr.tif\n",
      "Reading input: /Users/tylere/Documents/GitHub/gee-community/sar-asf-to-gee/temp_downloads/S1_184906_IW1_20240104_20240116_VV_INT80_E33E/S1_184906_IW1_20240104_20240116_VV_INT80_E33E_lon_rdr.tif\n",
      "\n",
      "Updating dataset tags...\n",
      "Writing output to: /Users/tylere/Documents/GitHub/gee-community/sar-asf-to-gee/temp_downloads/S1_184906_IW1_20240104_20240116_VV_INT80_E33E/S1_184906_IW1_20240104_20240116_VV_INT80_E33E_lon_rdr.tif\n",
      "Reading input: /Users/tylere/Documents/GitHub/gee-community/sar-asf-to-gee/temp_downloads/S1_184906_IW1_20240104_20240116_VV_INT80_E33E/S1_184906_IW1_20240104_20240116_VV_INT80_E33E_wrapped_phase.tif\n",
      "\n",
      "Adding overviews...\n",
      "Updating dataset tags...\n",
      "Writing output to: /Users/tylere/Documents/GitHub/gee-community/sar-asf-to-gee/temp_downloads/S1_184906_IW1_20240104_20240116_VV_INT80_E33E/S1_184906_IW1_20240104_20240116_VV_INT80_E33E_wrapped_phase.tif\n"
     ]
    },
    {
     "name": "stdout",
     "output_type": "stream",
     "text": [
      "  Transferring files from local computer to Google Cloud Storage...\n",
      "  Creating Google Earth Engine assets...\n",
      "  Done.\n"
     ]
    }
   ],
   "source": [
    "for job in jobs:\n",
    "    print(f'Processing {job.name}')\n",
    "    t = asf_hyp3.Transfer(\n",
    "        job_dict=job.to_dict(),\n",
    "        gcs_bucket='hyp3-data-staging',\n",
    "        gee_gcp_project='sar-asf-to-gee',\n",
    "        gee_image_collection='test_image_collection_INSAR_ISCE_BURST',\n",
    "        local_storage='temp_downloads',\n",
    "    )\n",
    "    print(f'  Transferring files from ASF to local computer...')\n",
    "    t.to_local()\n",
    "    print(f'  Transferring files from local computer to Google Cloud Storage...')\n",
    "    t.to_gcs()\n",
    "    print(f'  Creating Google Earth Engine assets...')\n",
    "    t.create_gee_asset()\n",
    "    print(f'  Done.')"
   ]
  },
  {
   "cell_type": "code",
   "execution_count": null,
   "metadata": {},
   "outputs": [],
   "source": []
  }
 ],
 "metadata": {
  "kernelspec": {
   "display_name": "Python 3 (ipykernel)",
   "language": "python",
   "name": "python3"
  }
 },
 "nbformat": 4,
 "nbformat_minor": 4
}
