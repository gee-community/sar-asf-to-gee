{
 "cells": [
  {
   "cell_type": "markdown",
   "id": "f49cf34e-e85d-414d-85cf-e42fa55391d7",
   "metadata": {},
   "source": [
    "# ASF HyP3\n",
    "\n",
    "> Module for transferring HyP3 processed data to Earth Engine. "
   ]
  },
  {
   "cell_type": "code",
   "execution_count": null,
   "id": "faf2fbf9-4e0b-4437-81fd-dffb36d06e76",
   "metadata": {},
   "outputs": [],
   "source": [
    "#| default_exp hyp3"
   ]
  },
  {
   "cell_type": "code",
   "execution_count": null,
   "id": "bcfbb841-a470-4f65-9243-d8fda6ac788f",
   "metadata": {},
   "outputs": [],
   "source": [
    "#| export\n",
    "import asf_search\n",
    "import datetime\n",
    "from IPython.display import JSON\n",
    "import ee\n",
    "from fastcore.basics import patch\n",
    "import gcsfs\n",
    "from hyp3_sdk import HyP3\n",
    "import logging\n",
    "import os\n",
    "from pprint import pprint\n",
    "import re\n",
    "from rio_cogeo import cogeo\n",
    "import subprocess\n",
    "import zipfile\n",
    "\n",
    "from sar_asf_to_gee.core import (\n",
    "    FORMAT_GEE_DATETIME_STRING,\n",
    "    create_gee_image_collection\n",
    ")"
   ]
  },
  {
   "cell_type": "markdown",
   "id": "d83c3402-0888-4d11-be83-025d18802b26",
   "metadata": {},
   "source": [
    "# Prerequisites\n",
    "\n",
    "Authenication for NASA Earthdata\n",
    "- See: https://nasa-openscapes.github.io/2021-Cloud-Hackathon/tutorials/04_NASA_Earthdata_Authentication.html\n",
    "\n",
    "Authenticate to Google Cloud\n",
    "- See: https://cloud.google.com/sdk/gcloud/reference/auth/application-default/loginca\n",
    "- `gcloud auth application-default login`\n",
    "\n",
    "Authenticate to Google Earth Engine\n",
    "- See: https://developers.google.com/earth-engine/guides/auth\n",
    "- `earthengine authenticate`"
   ]
  },
  {
   "cell_type": "code",
   "execution_count": null,
   "id": "c51e5dd5-b75f-4268-9108-58582abe9481",
   "metadata": {},
   "outputs": [],
   "source": [
    "hyp3 = HyP3()"
   ]
  },
  {
   "cell_type": "code",
   "execution_count": null,
   "id": "8b36274a-cd96-4e3f-8ad9-50f903970150",
   "metadata": {},
   "outputs": [],
   "source": [
    "# Set the logging level to display detailed information.\n",
    "logging.basicConfig(level=logging.INFO)"
   ]
  },
  {
   "cell_type": "markdown",
   "id": "ac7f1889-9520-4eda-b9e8-53acfeeff6b5",
   "metadata": {},
   "source": [
    "# Find Files"
   ]
  },
  {
   "cell_type": "markdown",
   "id": "6c28c1eb-72b0-4fb5-bd04-f7c1e272e450",
   "metadata": {},
   "source": [
    "[HyP3](https://hyp3-docs.asf.alaska.edu/) processing jobs can be initiated in a variety of ways, including the [Vertex](https://hyp3-docs.asf.alaska.edu/using/vertex/) web application and the [HyP3 Python SDK](https://hyp3-docs.asf.alaska.edu/using/sdk/).\n",
    "\n",
    "The status of previously submitted jobs can be checked on the following page:\n",
    "https://search.asf.alaska.edu/#/?searchType=On%20Demand"
   ]
  },
  {
   "cell_type": "code",
   "execution_count": null,
   "id": "978acde3-952f-49e1-b648-f9d8afe99287",
   "metadata": {},
   "outputs": [
    {
     "data": {
      "application/json": {
       "browse_images": [
        "https://d3gm2hf49xd6jj.cloudfront.net/008a6a57-3711-4fc9-b873-21b6cc8780a7/S1AA_20230331T140803_20230412T140803_VVP012_INT80_G_ueF_3F75_color_phase.png",
        "https://d3gm2hf49xd6jj.cloudfront.net/008a6a57-3711-4fc9-b873-21b6cc8780a7/S1AA_20230331T140803_20230412T140803_VVP012_INT80_G_ueF_3F75_unw_phase.png"
       ],
       "credit_cost": 1,
       "expiration_time": "2024-03-01T00:00:00+00:00",
       "files": [
        {
         "filename": "S1AA_20230331T140803_20230412T140803_VVP012_INT80_G_ueF_3F75.zip",
         "s3": {
          "bucket": "hyp3-edc-prod-contentbucket-1fv14ed36ifj6",
          "key": "008a6a57-3711-4fc9-b873-21b6cc8780a7/S1AA_20230331T140803_20230412T140803_VVP012_INT80_G_ueF_3F75.zip"
         },
         "size": 384287789,
         "url": "https://d3gm2hf49xd6jj.cloudfront.net/008a6a57-3711-4fc9-b873-21b6cc8780a7/S1AA_20230331T140803_20230412T140803_VVP012_INT80_G_ueF_3F75.zip"
        }
       ],
       "job_id": "008a6a57-3711-4fc9-b873-21b6cc8780a7",
       "job_parameters": {
        "apply_water_mask": false,
        "granules": [
         "S1A_IW_SLC__1SDV_20230412T140803_20230412T140830_048064_05C716_60A3",
         "S1A_IW_SLC__1SDV_20230331T140803_20230331T140830_047889_05C122_559A"
        ],
        "include_dem": true,
        "include_displacement_maps": true,
        "include_inc_map": true,
        "include_look_vectors": true,
        "include_los_displacement": false,
        "include_wrapped_phase": true,
        "looks": "20x4",
        "phase_filter_parameter": 0.6
       },
       "job_type": "INSAR_GAMMA",
       "logs": [],
       "name": "test submit_insar_job",
       "processing_times": [
        2566.522
       ],
       "request_time": "2024-02-15T18:53:35+00:00",
       "status_code": "SUCCEEDED",
       "thumbnail_images": [
        "https://d3gm2hf49xd6jj.cloudfront.net/008a6a57-3711-4fc9-b873-21b6cc8780a7/S1AA_20230331T140803_20230412T140803_VVP012_INT80_G_ueF_3F75_color_phase_thumb.png",
        "https://d3gm2hf49xd6jj.cloudfront.net/008a6a57-3711-4fc9-b873-21b6cc8780a7/S1AA_20230331T140803_20230412T140803_VVP012_INT80_G_ueF_3F75_unw_phase_thumb.png"
       ],
       "user_id": "tylere"
      },
      "text/plain": [
       "<IPython.core.display.JSON object>"
      ]
     },
     "metadata": {
      "application/json": {
       "expanded": false,
       "root": "root"
      }
     },
     "output_type": "display_data"
    }
   ],
   "source": [
    "job_name = 'test submit_insar_job'\n",
    "\n",
    "batch_completed = hyp3.find_jobs(\n",
    "    name=job_name,\n",
    "    status_code='SUCCEEDED',\n",
    ")\n",
    "\n",
    "# Limit to one job for simplicity\n",
    "job = next(batch_completed.__iter__())\n",
    "display(JSON(job.to_dict()))\n",
    "\n",
    "# for job in batch_completed:\n",
    "#     display(JSON(job.to_dict()))"
   ]
  },
  {
   "cell_type": "markdown",
   "id": "b413bdfd-cd45-4981-a646-e998917df691",
   "metadata": {},
   "source": [
    "# Transfer completed jobs"
   ]
  },
  {
   "cell_type": "code",
   "execution_count": null,
   "id": "782c340d-916a-46c2-8abb-69118fdcd090",
   "metadata": {},
   "outputs": [],
   "source": [
    "#| export\n",
    "class Transfer():\n",
    "    def __init__(\n",
    "        self,\n",
    "        job_dict,  # HyP3 job dictionary \n",
    "        gcs_bucket,  # GCS bucket\n",
    "        gee_gcp_project, # GCP project used by Earth Engine\n",
    "        gee_image_collection=None,  # Name of the Earth Engine ImageCollection (optional)\n",
    "        local_storage=None,\n",
    "    ):\n",
    "        self.job_dict = job_dict\n",
    "        self.gcs_bucket = gcs_bucket\n",
    "        self.gee_gcp_project = gee_gcp_project\n",
    "        self.gee_image_collection = gee_image_collection\n",
    "        if local_storage:\n",
    "            self.tempdir = None\n",
    "            self.local_storage = local_storage\n",
    "        else:\n",
    "            self.tempdir = tempfile.TemporaryDirectory() \n",
    "            self.local_storage = self.tempdir.name\n",
    "            logging.debug(f'created temporary directory: {self.tempdir.name}')"
   ]
  },
  {
   "cell_type": "code",
   "execution_count": null,
   "id": "60ad19d5-01a9-40e2-9115-fc3ca840c417",
   "metadata": {},
   "outputs": [],
   "source": [
    "t = Transfer(\n",
    "    job_dict=job.to_dict(),\n",
    "    gcs_bucket='hyp3-data-staging',\n",
    "    gee_gcp_project='sar-asf-to-gee',\n",
    "    gee_image_collection='test_ic',\n",
    "    local_storage='temp_downloads',\n",
    ")"
   ]
  },
  {
   "cell_type": "code",
   "execution_count": null,
   "id": "fe411cbe-99ac-4197-a914-4602c41a6869",
   "metadata": {},
   "outputs": [],
   "source": [
    "#| export\n",
    "@patch\n",
    "def hpy3_results_to_local(\n",
    "    self:Transfer,           \n",
    "):\n",
    "    \"Transfer HyP3 results to local system, unzip, and update the job dictionary.\"    \n",
    "    for file in self.job_dict['files']:\n",
    "        asf_search.download_url(\n",
    "            url=file['url'],\n",
    "            path=self.local_storage,\n",
    "            filename=file['filename'],\n",
    "        )\n",
    "        # Unzip the file\n",
    "        with zipfile.ZipFile(os.path.join(self.local_storage, file['filename']), 'r') as zip_ref:\n",
    "            zip_ref.extractall(self.local_storage)\n",
    "\n",
    "        # List the TIF files.\n",
    "        scene_name = file['filename'].removesuffix('.zip')\n",
    "        tifs = [x for x in os.listdir(\n",
    "                    os.path.join('temp_downloads', scene_name))\n",
    "                if x.endswith('.tif')]\n",
    "\n",
    "        for tif in tifs:\n",
    "            logging.info(f'Converting to a Cloud Optimized GeoTIFF: {tif}')\n",
    "            subprocess.run([\n",
    "                \"rio\",\n",
    "                \"cogeo\",\n",
    "                \"create\",\n",
    "                os.path.join(self.local_storage, scene_name, tif),\n",
    "                os.path.join(self.local_storage, scene_name, tif)\n",
    "            ])\n",
    "        \n",
    "        tif_dict = {}\n",
    "        pattern = rf'^({scene_name}_(.+).tif)$'\n",
    "        for i in tifs:\n",
    "            groups = re.search(pattern, i).groups()\n",
    "            tif_dict[groups[1]] = os.path.join(scene_name, groups[0])\n",
    "        \n",
    "        file['extracted'] = tif_dict"
   ]
  },
  {
   "cell_type": "code",
   "execution_count": null,
   "id": "0be0814c-2bfc-49a5-88d3-cd0fc0c29121",
   "metadata": {},
   "outputs": [
    {
     "name": "stderr",
     "output_type": "stream",
     "text": [
      "/Users/tylere/Documents/GitHub/gee-community/sar-asf-to-gee/.pixi/env/lib/python3.11/site-packages/asf_search/download/download.py:65: UserWarning: File already exists, skipping download: temp_downloads/S1AA_20230331T140803_20230412T140803_VVP012_INT80_G_ueF_3F75.zip\n",
      "  warnings.warn(f'File already exists, skipping download: {os.path.join(path, filename)}')\n",
      "INFO:root:Converting to a Cloud Optimized GeoTIFF: S1AA_20230331T140803_20230412T140803_VVP012_INT80_G_ueF_3F75_corr.tif\n",
      "Reading input: /Users/tylere/Documents/GitHub/gee-community/sar-asf-to-gee/temp_downloads/S1AA_20230331T140803_20230412T140803_VVP012_INT80_G_ueF_3F75/S1AA_20230331T140803_20230412T140803_VVP012_INT80_G_ueF_3F75_corr.tif\n",
      "\n",
      "Adding overviews...\n",
      "Updating dataset tags...\n",
      "Writing output to: /Users/tylere/Documents/GitHub/gee-community/sar-asf-to-gee/temp_downloads/S1AA_20230331T140803_20230412T140803_VVP012_INT80_G_ueF_3F75/S1AA_20230331T140803_20230412T140803_VVP012_INT80_G_ueF_3F75_corr.tif\n",
      "INFO:root:Converting to a Cloud Optimized GeoTIFF: S1AA_20230331T140803_20230412T140803_VVP012_INT80_G_ueF_3F75_los_disp.tif\n",
      "Reading input: /Users/tylere/Documents/GitHub/gee-community/sar-asf-to-gee/temp_downloads/S1AA_20230331T140803_20230412T140803_VVP012_INT80_G_ueF_3F75/S1AA_20230331T140803_20230412T140803_VVP012_INT80_G_ueF_3F75_los_disp.tif\n",
      "\n",
      "Adding overviews...\n",
      "Updating dataset tags...\n",
      "Writing output to: /Users/tylere/Documents/GitHub/gee-community/sar-asf-to-gee/temp_downloads/S1AA_20230331T140803_20230412T140803_VVP012_INT80_G_ueF_3F75/S1AA_20230331T140803_20230412T140803_VVP012_INT80_G_ueF_3F75_los_disp.tif\n",
      "INFO:root:Converting to a Cloud Optimized GeoTIFF: S1AA_20230331T140803_20230412T140803_VVP012_INT80_G_ueF_3F75_inc_map.tif\n",
      "Reading input: /Users/tylere/Documents/GitHub/gee-community/sar-asf-to-gee/temp_downloads/S1AA_20230331T140803_20230412T140803_VVP012_INT80_G_ueF_3F75/S1AA_20230331T140803_20230412T140803_VVP012_INT80_G_ueF_3F75_inc_map.tif\n",
      "\n",
      "Adding overviews...\n",
      "Updating dataset tags...\n",
      "Writing output to: /Users/tylere/Documents/GitHub/gee-community/sar-asf-to-gee/temp_downloads/S1AA_20230331T140803_20230412T140803_VVP012_INT80_G_ueF_3F75/S1AA_20230331T140803_20230412T140803_VVP012_INT80_G_ueF_3F75_inc_map.tif\n",
      "INFO:root:Converting to a Cloud Optimized GeoTIFF: S1AA_20230331T140803_20230412T140803_VVP012_INT80_G_ueF_3F75_vert_disp.tif\n",
      "Reading input: /Users/tylere/Documents/GitHub/gee-community/sar-asf-to-gee/temp_downloads/S1AA_20230331T140803_20230412T140803_VVP012_INT80_G_ueF_3F75/S1AA_20230331T140803_20230412T140803_VVP012_INT80_G_ueF_3F75_vert_disp.tif\n",
      "\n",
      "Adding overviews...\n",
      "Updating dataset tags...\n",
      "Writing output to: /Users/tylere/Documents/GitHub/gee-community/sar-asf-to-gee/temp_downloads/S1AA_20230331T140803_20230412T140803_VVP012_INT80_G_ueF_3F75/S1AA_20230331T140803_20230412T140803_VVP012_INT80_G_ueF_3F75_vert_disp.tif\n",
      "INFO:root:Converting to a Cloud Optimized GeoTIFF: S1AA_20230331T140803_20230412T140803_VVP012_INT80_G_ueF_3F75_water_mask.tif\n",
      "Reading input: /Users/tylere/Documents/GitHub/gee-community/sar-asf-to-gee/temp_downloads/S1AA_20230331T140803_20230412T140803_VVP012_INT80_G_ueF_3F75/S1AA_20230331T140803_20230412T140803_VVP012_INT80_G_ueF_3F75_water_mask.tif\n",
      "\n",
      "Adding overviews...\n",
      "Updating dataset tags...\n",
      "Writing output to: /Users/tylere/Documents/GitHub/gee-community/sar-asf-to-gee/temp_downloads/S1AA_20230331T140803_20230412T140803_VVP012_INT80_G_ueF_3F75/S1AA_20230331T140803_20230412T140803_VVP012_INT80_G_ueF_3F75_water_mask.tif\n",
      "INFO:root:Converting to a Cloud Optimized GeoTIFF: S1AA_20230331T140803_20230412T140803_VVP012_INT80_G_ueF_3F75_lv_phi.tif\n",
      "Reading input: /Users/tylere/Documents/GitHub/gee-community/sar-asf-to-gee/temp_downloads/S1AA_20230331T140803_20230412T140803_VVP012_INT80_G_ueF_3F75/S1AA_20230331T140803_20230412T140803_VVP012_INT80_G_ueF_3F75_lv_phi.tif\n",
      "\n",
      "Adding overviews...\n",
      "Updating dataset tags...\n",
      "Writing output to: /Users/tylere/Documents/GitHub/gee-community/sar-asf-to-gee/temp_downloads/S1AA_20230331T140803_20230412T140803_VVP012_INT80_G_ueF_3F75/S1AA_20230331T140803_20230412T140803_VVP012_INT80_G_ueF_3F75_lv_phi.tif\n",
      "INFO:root:Converting to a Cloud Optimized GeoTIFF: S1AA_20230331T140803_20230412T140803_VVP012_INT80_G_ueF_3F75_inc_map_ell.tif\n",
      "Reading input: /Users/tylere/Documents/GitHub/gee-community/sar-asf-to-gee/temp_downloads/S1AA_20230331T140803_20230412T140803_VVP012_INT80_G_ueF_3F75/S1AA_20230331T140803_20230412T140803_VVP012_INT80_G_ueF_3F75_inc_map_ell.tif\n",
      "\n",
      "Adding overviews...\n",
      "Updating dataset tags...\n",
      "Writing output to: /Users/tylere/Documents/GitHub/gee-community/sar-asf-to-gee/temp_downloads/S1AA_20230331T140803_20230412T140803_VVP012_INT80_G_ueF_3F75/S1AA_20230331T140803_20230412T140803_VVP012_INT80_G_ueF_3F75_inc_map_ell.tif\n",
      "INFO:root:Converting to a Cloud Optimized GeoTIFF: S1AA_20230331T140803_20230412T140803_VVP012_INT80_G_ueF_3F75_lv_theta.tif\n",
      "Reading input: /Users/tylere/Documents/GitHub/gee-community/sar-asf-to-gee/temp_downloads/S1AA_20230331T140803_20230412T140803_VVP012_INT80_G_ueF_3F75/S1AA_20230331T140803_20230412T140803_VVP012_INT80_G_ueF_3F75_lv_theta.tif\n",
      "\n",
      "Adding overviews...\n",
      "Updating dataset tags...\n",
      "Writing output to: /Users/tylere/Documents/GitHub/gee-community/sar-asf-to-gee/temp_downloads/S1AA_20230331T140803_20230412T140803_VVP012_INT80_G_ueF_3F75/S1AA_20230331T140803_20230412T140803_VVP012_INT80_G_ueF_3F75_lv_theta.tif\n",
      "INFO:root:Converting to a Cloud Optimized GeoTIFF: S1AA_20230331T140803_20230412T140803_VVP012_INT80_G_ueF_3F75_unw_phase.tif\n",
      "Reading input: /Users/tylere/Documents/GitHub/gee-community/sar-asf-to-gee/temp_downloads/S1AA_20230331T140803_20230412T140803_VVP012_INT80_G_ueF_3F75/S1AA_20230331T140803_20230412T140803_VVP012_INT80_G_ueF_3F75_unw_phase.tif\n",
      "\n",
      "Adding overviews...\n",
      "Updating dataset tags...\n",
      "Writing output to: /Users/tylere/Documents/GitHub/gee-community/sar-asf-to-gee/temp_downloads/S1AA_20230331T140803_20230412T140803_VVP012_INT80_G_ueF_3F75/S1AA_20230331T140803_20230412T140803_VVP012_INT80_G_ueF_3F75_unw_phase.tif\n",
      "INFO:root:Converting to a Cloud Optimized GeoTIFF: S1AA_20230331T140803_20230412T140803_VVP012_INT80_G_ueF_3F75_amp.tif\n",
      "Reading input: /Users/tylere/Documents/GitHub/gee-community/sar-asf-to-gee/temp_downloads/S1AA_20230331T140803_20230412T140803_VVP012_INT80_G_ueF_3F75/S1AA_20230331T140803_20230412T140803_VVP012_INT80_G_ueF_3F75_amp.tif\n",
      "\n",
      "Adding overviews...\n",
      "Updating dataset tags...\n",
      "Writing output to: /Users/tylere/Documents/GitHub/gee-community/sar-asf-to-gee/temp_downloads/S1AA_20230331T140803_20230412T140803_VVP012_INT80_G_ueF_3F75/S1AA_20230331T140803_20230412T140803_VVP012_INT80_G_ueF_3F75_amp.tif\n",
      "INFO:root:Converting to a Cloud Optimized GeoTIFF: S1AA_20230331T140803_20230412T140803_VVP012_INT80_G_ueF_3F75_wrapped_phase.tif\n",
      "Reading input: /Users/tylere/Documents/GitHub/gee-community/sar-asf-to-gee/temp_downloads/S1AA_20230331T140803_20230412T140803_VVP012_INT80_G_ueF_3F75/S1AA_20230331T140803_20230412T140803_VVP012_INT80_G_ueF_3F75_wrapped_phase.tif\n",
      "\n",
      "Adding overviews...\n",
      "Updating dataset tags...\n",
      "Writing output to: /Users/tylere/Documents/GitHub/gee-community/sar-asf-to-gee/temp_downloads/S1AA_20230331T140803_20230412T140803_VVP012_INT80_G_ueF_3F75/S1AA_20230331T140803_20230412T140803_VVP012_INT80_G_ueF_3F75_wrapped_phase.tif\n",
      "INFO:root:Converting to a Cloud Optimized GeoTIFF: S1AA_20230331T140803_20230412T140803_VVP012_INT80_G_ueF_3F75_dem.tif\n",
      "Reading input: /Users/tylere/Documents/GitHub/gee-community/sar-asf-to-gee/temp_downloads/S1AA_20230331T140803_20230412T140803_VVP012_INT80_G_ueF_3F75/S1AA_20230331T140803_20230412T140803_VVP012_INT80_G_ueF_3F75_dem.tif\n",
      "\n",
      "Adding overviews...\n",
      "Updating dataset tags...\n",
      "Writing output to: /Users/tylere/Documents/GitHub/gee-community/sar-asf-to-gee/temp_downloads/S1AA_20230331T140803_20230412T140803_VVP012_INT80_G_ueF_3F75/S1AA_20230331T140803_20230412T140803_VVP012_INT80_G_ueF_3F75_dem.tif\n"
     ]
    },
    {
     "data": {
      "application/json": {
       "browse_images": [
        "https://d3gm2hf49xd6jj.cloudfront.net/008a6a57-3711-4fc9-b873-21b6cc8780a7/S1AA_20230331T140803_20230412T140803_VVP012_INT80_G_ueF_3F75_color_phase.png",
        "https://d3gm2hf49xd6jj.cloudfront.net/008a6a57-3711-4fc9-b873-21b6cc8780a7/S1AA_20230331T140803_20230412T140803_VVP012_INT80_G_ueF_3F75_unw_phase.png"
       ],
       "credit_cost": 1,
       "expiration_time": "2024-03-01T00:00:00+00:00",
       "files": [
        {
         "extracted": {
          "amp": "S1AA_20230331T140803_20230412T140803_VVP012_INT80_G_ueF_3F75/S1AA_20230331T140803_20230412T140803_VVP012_INT80_G_ueF_3F75_amp.tif",
          "corr": "S1AA_20230331T140803_20230412T140803_VVP012_INT80_G_ueF_3F75/S1AA_20230331T140803_20230412T140803_VVP012_INT80_G_ueF_3F75_corr.tif",
          "dem": "S1AA_20230331T140803_20230412T140803_VVP012_INT80_G_ueF_3F75/S1AA_20230331T140803_20230412T140803_VVP012_INT80_G_ueF_3F75_dem.tif",
          "inc_map": "S1AA_20230331T140803_20230412T140803_VVP012_INT80_G_ueF_3F75/S1AA_20230331T140803_20230412T140803_VVP012_INT80_G_ueF_3F75_inc_map.tif",
          "inc_map_ell": "S1AA_20230331T140803_20230412T140803_VVP012_INT80_G_ueF_3F75/S1AA_20230331T140803_20230412T140803_VVP012_INT80_G_ueF_3F75_inc_map_ell.tif",
          "los_disp": "S1AA_20230331T140803_20230412T140803_VVP012_INT80_G_ueF_3F75/S1AA_20230331T140803_20230412T140803_VVP012_INT80_G_ueF_3F75_los_disp.tif",
          "lv_phi": "S1AA_20230331T140803_20230412T140803_VVP012_INT80_G_ueF_3F75/S1AA_20230331T140803_20230412T140803_VVP012_INT80_G_ueF_3F75_lv_phi.tif",
          "lv_theta": "S1AA_20230331T140803_20230412T140803_VVP012_INT80_G_ueF_3F75/S1AA_20230331T140803_20230412T140803_VVP012_INT80_G_ueF_3F75_lv_theta.tif",
          "unw_phase": "S1AA_20230331T140803_20230412T140803_VVP012_INT80_G_ueF_3F75/S1AA_20230331T140803_20230412T140803_VVP012_INT80_G_ueF_3F75_unw_phase.tif",
          "vert_disp": "S1AA_20230331T140803_20230412T140803_VVP012_INT80_G_ueF_3F75/S1AA_20230331T140803_20230412T140803_VVP012_INT80_G_ueF_3F75_vert_disp.tif",
          "water_mask": "S1AA_20230331T140803_20230412T140803_VVP012_INT80_G_ueF_3F75/S1AA_20230331T140803_20230412T140803_VVP012_INT80_G_ueF_3F75_water_mask.tif",
          "wrapped_phase": "S1AA_20230331T140803_20230412T140803_VVP012_INT80_G_ueF_3F75/S1AA_20230331T140803_20230412T140803_VVP012_INT80_G_ueF_3F75_wrapped_phase.tif"
         },
         "filename": "S1AA_20230331T140803_20230412T140803_VVP012_INT80_G_ueF_3F75.zip",
         "s3": {
          "bucket": "hyp3-edc-prod-contentbucket-1fv14ed36ifj6",
          "key": "008a6a57-3711-4fc9-b873-21b6cc8780a7/S1AA_20230331T140803_20230412T140803_VVP012_INT80_G_ueF_3F75.zip"
         },
         "size": 384287789,
         "url": "https://d3gm2hf49xd6jj.cloudfront.net/008a6a57-3711-4fc9-b873-21b6cc8780a7/S1AA_20230331T140803_20230412T140803_VVP012_INT80_G_ueF_3F75.zip"
        }
       ],
       "job_id": "008a6a57-3711-4fc9-b873-21b6cc8780a7",
       "job_parameters": {
        "apply_water_mask": false,
        "granules": [
         "S1A_IW_SLC__1SDV_20230412T140803_20230412T140830_048064_05C716_60A3",
         "S1A_IW_SLC__1SDV_20230331T140803_20230331T140830_047889_05C122_559A"
        ],
        "include_dem": true,
        "include_displacement_maps": true,
        "include_inc_map": true,
        "include_look_vectors": true,
        "include_los_displacement": false,
        "include_wrapped_phase": true,
        "looks": "20x4",
        "phase_filter_parameter": 0.6
       },
       "job_type": "INSAR_GAMMA",
       "logs": [],
       "name": "test submit_insar_job",
       "processing_times": [
        2566.522
       ],
       "request_time": "2024-02-15T18:53:35+00:00",
       "status_code": "SUCCEEDED",
       "thumbnail_images": [
        "https://d3gm2hf49xd6jj.cloudfront.net/008a6a57-3711-4fc9-b873-21b6cc8780a7/S1AA_20230331T140803_20230412T140803_VVP012_INT80_G_ueF_3F75_color_phase_thumb.png",
        "https://d3gm2hf49xd6jj.cloudfront.net/008a6a57-3711-4fc9-b873-21b6cc8780a7/S1AA_20230331T140803_20230412T140803_VVP012_INT80_G_ueF_3F75_unw_phase_thumb.png"
       ],
       "user_id": "tylere"
      },
      "text/plain": [
       "<IPython.core.display.JSON object>"
      ]
     },
     "metadata": {
      "application/json": {
       "expanded": false,
       "root": "root"
      }
     },
     "output_type": "display_data"
    }
   ],
   "source": [
    "t.hpy3_results_to_local()\n",
    "\n",
    "# Display the job dictionary, which now includes the list of extracted files.\n",
    "display(JSON(t.job_dict))"
   ]
  },
  {
   "cell_type": "markdown",
   "id": "e9ef4739-d762-484b-bfbc-423dfc3365d5",
   "metadata": {},
   "source": [
    "## Transfer to Google Cloud Storage"
   ]
  },
  {
   "cell_type": "code",
   "execution_count": null,
   "id": "33878c48-e085-4732-910f-cd2930778a8e",
   "metadata": {},
   "outputs": [],
   "source": [
    "#| export\n",
    "@patch\n",
    "def to_gcs(\n",
    "    self:Transfer,\n",
    "):\n",
    "    logging.debug('Starting _to_gcs')\n",
    "\n",
    "    fs = gcsfs.GCSFileSystem(token='google_default')\n",
    "\n",
    "    for file in self.job_dict['files']:\n",
    "        for band, filename in file['extracted'].items():\n",
    "            gcs_path = f'{self.gcs_bucket}/{filename}'\n",
    "            if fs.exists(gcs_path):\n",
    "                logging.info(f'GCS file already exists: {gcs_path}')\n",
    "            else:\n",
    "                logging.info(f'Starting to transfer file to GCS: {gcs_path}')\n",
    "                # Transfer the local file to GCS.\n",
    "                fs.put_file(\n",
    "                    lpath=f\"{self.local_storage}/{filename}\",\n",
    "                    rpath=gcs_path\n",
    "                )    \n",
    "                logging.info(f'Transferred file to GCS: {gcs_path}')"
   ]
  },
  {
   "cell_type": "code",
   "execution_count": null,
   "id": "0a168f76-a382-4a21-8837-ec4c970ba166",
   "metadata": {},
   "outputs": [
    {
     "name": "stderr",
     "output_type": "stream",
     "text": [
      "INFO:root:Starting to transfer file to GCS: hyp3-data-staging/S1AA_20230331T140803_20230412T140803_VVP012_INT80_G_ueF_3F75/S1AA_20230331T140803_20230412T140803_VVP012_INT80_G_ueF_3F75_corr.tif\n",
      "INFO:root:Transferred file to GCS: hyp3-data-staging/S1AA_20230331T140803_20230412T140803_VVP012_INT80_G_ueF_3F75/S1AA_20230331T140803_20230412T140803_VVP012_INT80_G_ueF_3F75_corr.tif\n",
      "INFO:root:Starting to transfer file to GCS: hyp3-data-staging/S1AA_20230331T140803_20230412T140803_VVP012_INT80_G_ueF_3F75/S1AA_20230331T140803_20230412T140803_VVP012_INT80_G_ueF_3F75_los_disp.tif\n",
      "INFO:root:Transferred file to GCS: hyp3-data-staging/S1AA_20230331T140803_20230412T140803_VVP012_INT80_G_ueF_3F75/S1AA_20230331T140803_20230412T140803_VVP012_INT80_G_ueF_3F75_los_disp.tif\n",
      "INFO:root:Starting to transfer file to GCS: hyp3-data-staging/S1AA_20230331T140803_20230412T140803_VVP012_INT80_G_ueF_3F75/S1AA_20230331T140803_20230412T140803_VVP012_INT80_G_ueF_3F75_inc_map.tif\n",
      "INFO:root:Transferred file to GCS: hyp3-data-staging/S1AA_20230331T140803_20230412T140803_VVP012_INT80_G_ueF_3F75/S1AA_20230331T140803_20230412T140803_VVP012_INT80_G_ueF_3F75_inc_map.tif\n",
      "INFO:root:Starting to transfer file to GCS: hyp3-data-staging/S1AA_20230331T140803_20230412T140803_VVP012_INT80_G_ueF_3F75/S1AA_20230331T140803_20230412T140803_VVP012_INT80_G_ueF_3F75_vert_disp.tif\n",
      "INFO:root:Transferred file to GCS: hyp3-data-staging/S1AA_20230331T140803_20230412T140803_VVP012_INT80_G_ueF_3F75/S1AA_20230331T140803_20230412T140803_VVP012_INT80_G_ueF_3F75_vert_disp.tif\n",
      "INFO:root:Starting to transfer file to GCS: hyp3-data-staging/S1AA_20230331T140803_20230412T140803_VVP012_INT80_G_ueF_3F75/S1AA_20230331T140803_20230412T140803_VVP012_INT80_G_ueF_3F75_water_mask.tif\n",
      "INFO:root:Transferred file to GCS: hyp3-data-staging/S1AA_20230331T140803_20230412T140803_VVP012_INT80_G_ueF_3F75/S1AA_20230331T140803_20230412T140803_VVP012_INT80_G_ueF_3F75_water_mask.tif\n",
      "INFO:root:Starting to transfer file to GCS: hyp3-data-staging/S1AA_20230331T140803_20230412T140803_VVP012_INT80_G_ueF_3F75/S1AA_20230331T140803_20230412T140803_VVP012_INT80_G_ueF_3F75_lv_phi.tif\n",
      "INFO:root:Transferred file to GCS: hyp3-data-staging/S1AA_20230331T140803_20230412T140803_VVP012_INT80_G_ueF_3F75/S1AA_20230331T140803_20230412T140803_VVP012_INT80_G_ueF_3F75_lv_phi.tif\n",
      "INFO:root:Starting to transfer file to GCS: hyp3-data-staging/S1AA_20230331T140803_20230412T140803_VVP012_INT80_G_ueF_3F75/S1AA_20230331T140803_20230412T140803_VVP012_INT80_G_ueF_3F75_inc_map_ell.tif\n",
      "INFO:root:Transferred file to GCS: hyp3-data-staging/S1AA_20230331T140803_20230412T140803_VVP012_INT80_G_ueF_3F75/S1AA_20230331T140803_20230412T140803_VVP012_INT80_G_ueF_3F75_inc_map_ell.tif\n",
      "INFO:root:Starting to transfer file to GCS: hyp3-data-staging/S1AA_20230331T140803_20230412T140803_VVP012_INT80_G_ueF_3F75/S1AA_20230331T140803_20230412T140803_VVP012_INT80_G_ueF_3F75_lv_theta.tif\n",
      "INFO:root:Transferred file to GCS: hyp3-data-staging/S1AA_20230331T140803_20230412T140803_VVP012_INT80_G_ueF_3F75/S1AA_20230331T140803_20230412T140803_VVP012_INT80_G_ueF_3F75_lv_theta.tif\n",
      "INFO:root:Starting to transfer file to GCS: hyp3-data-staging/S1AA_20230331T140803_20230412T140803_VVP012_INT80_G_ueF_3F75/S1AA_20230331T140803_20230412T140803_VVP012_INT80_G_ueF_3F75_unw_phase.tif\n",
      "INFO:root:Transferred file to GCS: hyp3-data-staging/S1AA_20230331T140803_20230412T140803_VVP012_INT80_G_ueF_3F75/S1AA_20230331T140803_20230412T140803_VVP012_INT80_G_ueF_3F75_unw_phase.tif\n",
      "INFO:root:Starting to transfer file to GCS: hyp3-data-staging/S1AA_20230331T140803_20230412T140803_VVP012_INT80_G_ueF_3F75/S1AA_20230331T140803_20230412T140803_VVP012_INT80_G_ueF_3F75_amp.tif\n",
      "INFO:root:Transferred file to GCS: hyp3-data-staging/S1AA_20230331T140803_20230412T140803_VVP012_INT80_G_ueF_3F75/S1AA_20230331T140803_20230412T140803_VVP012_INT80_G_ueF_3F75_amp.tif\n",
      "INFO:root:Starting to transfer file to GCS: hyp3-data-staging/S1AA_20230331T140803_20230412T140803_VVP012_INT80_G_ueF_3F75/S1AA_20230331T140803_20230412T140803_VVP012_INT80_G_ueF_3F75_wrapped_phase.tif\n",
      "INFO:root:Transferred file to GCS: hyp3-data-staging/S1AA_20230331T140803_20230412T140803_VVP012_INT80_G_ueF_3F75/S1AA_20230331T140803_20230412T140803_VVP012_INT80_G_ueF_3F75_wrapped_phase.tif\n",
      "INFO:root:Starting to transfer file to GCS: hyp3-data-staging/S1AA_20230331T140803_20230412T140803_VVP012_INT80_G_ueF_3F75/S1AA_20230331T140803_20230412T140803_VVP012_INT80_G_ueF_3F75_dem.tif\n",
      "INFO:root:Transferred file to GCS: hyp3-data-staging/S1AA_20230331T140803_20230412T140803_VVP012_INT80_G_ueF_3F75/S1AA_20230331T140803_20230412T140803_VVP012_INT80_G_ueF_3F75_dem.tif\n"
     ]
    }
   ],
   "source": [
    "# Transfer the files to Google Cloud Storage\n",
    "t.to_gcs()"
   ]
  },
  {
   "cell_type": "markdown",
   "id": "7af23f8a-a15e-416d-88fb-85956c394725",
   "metadata": {},
   "source": [
    "## Create a GEE Asset"
   ]
  },
  {
   "cell_type": "code",
   "execution_count": null,
   "id": "bbad9a43-a49d-4ec8-815f-7160939210c2",
   "metadata": {},
   "outputs": [],
   "source": [
    "#| export\n",
    "@patch\n",
    "def create_gee_asset(\n",
    "    self:Transfer,\n",
    "    # start_time: str,  # Starting time for the asset, as UTC string\n",
    "    # end_time: str,  # Ending time for the asset, as UTC string\n",
    "    # description,  # Description of the asset\n",
    "):\n",
    "    \"Create an Earth Engine asset.\"\n",
    "\n",
    "    ee.Initialize(project=self.gee_gcp_project)\n",
    "    \n",
    "    create_gee_image_collection(self.gee_gcp_project, self.gee_image_collection)\n",
    "    # self._to_gcs()\n",
    "\n",
    "    granule_names = self.job_dict['job_parameters']['granules']\n",
    "    granules = asf_search.granule_search(granule_names)\n",
    "\n",
    "    granule_times = [datetime.datetime.fromisoformat(x.properties['stopTime']) for x in granules]\n",
    "    start_time = min(granule_times)\n",
    "    end_time = max(granule_times)\n",
    "    \n",
    "    id = f\"{self.job_dict['job_id']}\"\n",
    "\n",
    "    props = granules[0].properties\n",
    "    description = (f\"{props['platform']}\"\n",
    "                   f\" - {props['processingLevel']}\"\n",
    "                   f\" - {props['beamModeType']}\")\n",
    "    \n",
    "    for file_dict in self.job_dict['files']:\n",
    "        for band, filename in file_dict['extracted'].items():\n",
    "            gcs_path = f'{self.gcs_bucket}/{filename}'\n",
    "            print(gcs_path)\n",
    "            \n",
    "            request = {\n",
    "                'type': 'IMAGE',\n",
    "                'bands': {  # TODO: Update this once multi-band COG assets are supported\n",
    "                    'id': band\n",
    "                },\n",
    "                'gcs_location': {\n",
    "                    'uris': [f'gs://{gcs_path}']\n",
    "                },\n",
    "                'properties': {\n",
    "                    'source':  file_dict['url'],\n",
    "                    'band': band  # TODO: Remove this once multi-band COG assets are supported\n",
    "                },\n",
    "                'startTime': start_time.strftime(FORMAT_GEE_DATETIME_STRING),\n",
    "                'endTime': end_time.strftime(FORMAT_GEE_DATETIME_STRING),\n",
    "                'description': description\n",
    "            }\n",
    "\n",
    "            path_parts = [\n",
    "                'projects',\n",
    "                self.gee_gcp_project,\n",
    "                'assets',\n",
    "                self.gee_image_collection,\n",
    "                # TODO: Remove the band suffix once multi-band COG assets are supported\n",
    "                f'{id}_{band}'.replace(\".\", \"_\") \n",
    "            ]\n",
    "            assetname = os.path.join(*[x for x in path_parts if x is not None])\n",
    "            \n",
    "            try:\n",
    "                ee.data.createAsset(\n",
    "                    value=request,\n",
    "                    path=assetname\n",
    "                )  \n",
    "                logging.info('Finished creating a GEE asset.')\n",
    "            except ee.EEException as e:\n",
    "                if \"does not exist or doesn't allow this operation\" in str(e):\n",
    "                    raise(e)\n",
    "                else:\n",
    "                    raise(e)  # TODO: Add logic to parse the EEException message.\n",
    "                    logging.info('GEE asset already exists. Skipping.')"
   ]
  },
  {
   "cell_type": "code",
   "execution_count": null,
   "id": "c2b3c84f-0c22-43b4-81d6-352cbcf2df10",
   "metadata": {},
   "outputs": [
    {
     "name": "stdout",
     "output_type": "stream",
     "text": [
      "hyp3-data-staging/S1AA_20230331T140803_20230412T140803_VVP012_INT80_G_ueF_3F75/S1AA_20230331T140803_20230412T140803_VVP012_INT80_G_ueF_3F75_corr.tif\n"
     ]
    },
    {
     "name": "stderr",
     "output_type": "stream",
     "text": [
      "INFO:root:Finished creating a GEE asset.\n"
     ]
    },
    {
     "name": "stdout",
     "output_type": "stream",
     "text": [
      "hyp3-data-staging/S1AA_20230331T140803_20230412T140803_VVP012_INT80_G_ueF_3F75/S1AA_20230331T140803_20230412T140803_VVP012_INT80_G_ueF_3F75_los_disp.tif\n"
     ]
    },
    {
     "name": "stderr",
     "output_type": "stream",
     "text": [
      "INFO:root:Finished creating a GEE asset.\n"
     ]
    },
    {
     "name": "stdout",
     "output_type": "stream",
     "text": [
      "hyp3-data-staging/S1AA_20230331T140803_20230412T140803_VVP012_INT80_G_ueF_3F75/S1AA_20230331T140803_20230412T140803_VVP012_INT80_G_ueF_3F75_inc_map.tif\n"
     ]
    },
    {
     "name": "stderr",
     "output_type": "stream",
     "text": [
      "INFO:root:Finished creating a GEE asset.\n"
     ]
    },
    {
     "name": "stdout",
     "output_type": "stream",
     "text": [
      "hyp3-data-staging/S1AA_20230331T140803_20230412T140803_VVP012_INT80_G_ueF_3F75/S1AA_20230331T140803_20230412T140803_VVP012_INT80_G_ueF_3F75_vert_disp.tif\n"
     ]
    },
    {
     "name": "stderr",
     "output_type": "stream",
     "text": [
      "INFO:root:Finished creating a GEE asset.\n"
     ]
    },
    {
     "name": "stdout",
     "output_type": "stream",
     "text": [
      "hyp3-data-staging/S1AA_20230331T140803_20230412T140803_VVP012_INT80_G_ueF_3F75/S1AA_20230331T140803_20230412T140803_VVP012_INT80_G_ueF_3F75_water_mask.tif\n"
     ]
    },
    {
     "name": "stderr",
     "output_type": "stream",
     "text": [
      "INFO:root:Finished creating a GEE asset.\n"
     ]
    },
    {
     "name": "stdout",
     "output_type": "stream",
     "text": [
      "hyp3-data-staging/S1AA_20230331T140803_20230412T140803_VVP012_INT80_G_ueF_3F75/S1AA_20230331T140803_20230412T140803_VVP012_INT80_G_ueF_3F75_lv_phi.tif\n"
     ]
    },
    {
     "name": "stderr",
     "output_type": "stream",
     "text": [
      "INFO:root:Finished creating a GEE asset.\n"
     ]
    },
    {
     "name": "stdout",
     "output_type": "stream",
     "text": [
      "hyp3-data-staging/S1AA_20230331T140803_20230412T140803_VVP012_INT80_G_ueF_3F75/S1AA_20230331T140803_20230412T140803_VVP012_INT80_G_ueF_3F75_inc_map_ell.tif\n"
     ]
    },
    {
     "name": "stderr",
     "output_type": "stream",
     "text": [
      "INFO:root:Finished creating a GEE asset.\n"
     ]
    },
    {
     "name": "stdout",
     "output_type": "stream",
     "text": [
      "hyp3-data-staging/S1AA_20230331T140803_20230412T140803_VVP012_INT80_G_ueF_3F75/S1AA_20230331T140803_20230412T140803_VVP012_INT80_G_ueF_3F75_lv_theta.tif\n"
     ]
    },
    {
     "name": "stderr",
     "output_type": "stream",
     "text": [
      "INFO:root:Finished creating a GEE asset.\n"
     ]
    },
    {
     "name": "stdout",
     "output_type": "stream",
     "text": [
      "hyp3-data-staging/S1AA_20230331T140803_20230412T140803_VVP012_INT80_G_ueF_3F75/S1AA_20230331T140803_20230412T140803_VVP012_INT80_G_ueF_3F75_unw_phase.tif\n"
     ]
    },
    {
     "name": "stderr",
     "output_type": "stream",
     "text": [
      "INFO:root:Finished creating a GEE asset.\n"
     ]
    },
    {
     "name": "stdout",
     "output_type": "stream",
     "text": [
      "hyp3-data-staging/S1AA_20230331T140803_20230412T140803_VVP012_INT80_G_ueF_3F75/S1AA_20230331T140803_20230412T140803_VVP012_INT80_G_ueF_3F75_amp.tif\n"
     ]
    },
    {
     "name": "stderr",
     "output_type": "stream",
     "text": [
      "INFO:root:Finished creating a GEE asset.\n"
     ]
    },
    {
     "name": "stdout",
     "output_type": "stream",
     "text": [
      "hyp3-data-staging/S1AA_20230331T140803_20230412T140803_VVP012_INT80_G_ueF_3F75/S1AA_20230331T140803_20230412T140803_VVP012_INT80_G_ueF_3F75_wrapped_phase.tif\n"
     ]
    },
    {
     "name": "stderr",
     "output_type": "stream",
     "text": [
      "INFO:root:Finished creating a GEE asset.\n"
     ]
    },
    {
     "name": "stdout",
     "output_type": "stream",
     "text": [
      "hyp3-data-staging/S1AA_20230331T140803_20230412T140803_VVP012_INT80_G_ueF_3F75/S1AA_20230331T140803_20230412T140803_VVP012_INT80_G_ueF_3F75_dem.tif\n"
     ]
    },
    {
     "name": "stderr",
     "output_type": "stream",
     "text": [
      "INFO:root:Finished creating a GEE asset.\n"
     ]
    }
   ],
   "source": [
    "t.create_gee_asset()"
   ]
  },
  {
   "cell_type": "markdown",
   "id": "c92d60fd-c24b-4d6f-b443-4ecb6bb64954",
   "metadata": {},
   "source": [
    "Code Editor script for visualizing the asset:\n",
    "https://code.earthengine.google.com/cdaf54611e608a4adb6bc9f6871666f4"
   ]
  },
  {
   "cell_type": "code",
   "execution_count": null,
   "id": "2229cc5c-4390-4ff6-96f5-9c6f2b3eadc1",
   "metadata": {},
   "outputs": [],
   "source": []
  }
 ],
 "metadata": {
  "kernelspec": {
   "display_name": "Python 3 (ipykernel)",
   "language": "python",
   "name": "python3"
  }
 },
 "nbformat": 4,
 "nbformat_minor": 5
}
